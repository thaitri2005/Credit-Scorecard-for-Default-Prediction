{
 "cells": [
  {
   "cell_type": "markdown",
   "id": "fbd3fc58",
   "metadata": {
    "papermill": {
     "duration": 0.016007,
     "end_time": "2025-04-30T02:57:05.776650",
     "exception": false,
     "start_time": "2025-04-30T02:57:05.760643",
     "status": "completed"
    },
    "tags": []
   },
   "source": [
    "# Credit Scorecard for Risk-Based Loan Default Prediction (with WOE & IV Feature Selection)"
   ]
  },
  {
   "cell_type": "markdown",
   "id": "369a238f",
   "metadata": {
    "papermill": {
     "duration": 0.01455,
     "end_time": "2025-04-30T02:57:05.806662",
     "exception": false,
     "start_time": "2025-04-30T02:57:05.792112",
     "status": "completed"
    },
    "tags": []
   },
   "source": [
    "Objective:\n",
    "Build a transparent, interpretable, and scalable credit risk model using logistic regression - enhanced with industry-standard WOE binning and IV-based feature selection - to predict the probability of loan default."
   ]
  },
  {
   "cell_type": "code",
   "execution_count": 1,
   "id": "7ce074ca",
   "metadata": {
    "execution": {
     "iopub.execute_input": "2025-04-30T02:57:05.838219Z",
     "iopub.status.busy": "2025-04-30T02:57:05.837813Z",
     "iopub.status.idle": "2025-04-30T02:57:08.868826Z",
     "shell.execute_reply": "2025-04-30T02:57:08.867919Z"
    },
    "papermill": {
     "duration": 3.048931,
     "end_time": "2025-04-30T02:57:08.870573",
     "exception": false,
     "start_time": "2025-04-30T02:57:05.821642",
     "status": "completed"
    },
    "tags": []
   },
   "outputs": [],
   "source": [
    "import warnings\n",
    "\n",
    "import numpy as np\n",
    "import pandas as pd\n",
    "\n",
    "import matplotlib.pyplot as plt\n",
    "import seaborn as sns\n",
    "\n",
    "from sklearn.linear_model import LogisticRegression\n",
    "from sklearn.metrics import roc_auc_score\n",
    "from sklearn.model_selection import train_test_split\n",
    "from sklearn.metrics import roc_curve, auc\n",
    "from sklearn.tree import DecisionTreeClassifier\n",
    "\n",
    "# Silence warnings to keep output clean\n",
    "warnings.simplefilter(action=\"ignore\", category=FutureWarning)\n",
    "warnings.filterwarnings(\"ignore\")"
   ]
  },
  {
   "cell_type": "markdown",
   "id": "7a1e120c",
   "metadata": {
    "papermill": {
     "duration": 0.014939,
     "end_time": "2025-04-30T02:57:08.900775",
     "exception": false,
     "start_time": "2025-04-30T02:57:08.885836",
     "status": "completed"
    },
    "tags": []
   },
   "source": [
    "# Data Preparation"
   ]
  },
  {
   "cell_type": "markdown",
   "id": "362737b0",
   "metadata": {
    "papermill": {
     "duration": 0.014746,
     "end_time": "2025-04-30T02:57:08.930543",
     "exception": false,
     "start_time": "2025-04-30T02:57:08.915797",
     "status": "completed"
    },
    "tags": []
   },
   "source": [
    "## Explore Data"
   ]
  },
  {
   "cell_type": "code",
   "execution_count": 2,
   "id": "be64d8d4",
   "metadata": {
    "execution": {
     "iopub.execute_input": "2025-04-30T02:57:08.969573Z",
     "iopub.status.busy": "2025-04-30T02:57:08.968854Z",
     "iopub.status.idle": "2025-04-30T02:57:08.973966Z",
     "shell.execute_reply": "2025-04-30T02:57:08.972863Z"
    },
    "papermill": {
     "duration": 0.0244,
     "end_time": "2025-04-30T02:57:08.975896",
     "exception": false,
     "start_time": "2025-04-30T02:57:08.951496",
     "status": "completed"
    },
    "tags": []
   },
   "outputs": [],
   "source": [
    "def wrangle(filepath):\n",
    "    df = pd.read_csv(filepath)\n",
    "    return df"
   ]
  },
  {
   "cell_type": "code",
   "execution_count": 3,
   "id": "b639eaaa",
   "metadata": {
    "execution": {
     "iopub.execute_input": "2025-04-30T02:57:09.011226Z",
     "iopub.status.busy": "2025-04-30T02:57:09.010813Z",
     "iopub.status.idle": "2025-04-30T02:57:25.819291Z",
     "shell.execute_reply": "2025-04-30T02:57:25.818362Z"
    },
    "papermill": {
     "duration": 16.826107,
     "end_time": "2025-04-30T02:57:25.821182",
     "exception": false,
     "start_time": "2025-04-30T02:57:08.995075",
     "status": "completed"
    },
    "tags": []
   },
   "outputs": [],
   "source": [
    "df = wrangle(\"../data/loan/loan.csv\")"
   ]
  },
  {
   "cell_type": "code",
   "execution_count": 4,
   "id": "156a6484",
   "metadata": {
    "execution": {
     "iopub.execute_input": "2025-04-30T02:57:25.852685Z",
     "iopub.status.busy": "2025-04-30T02:57:25.852361Z",
     "iopub.status.idle": "2025-04-30T02:57:25.894666Z",
     "shell.execute_reply": "2025-04-30T02:57:25.893646Z"
    },
    "papermill": {
     "duration": 0.059897,
     "end_time": "2025-04-30T02:57:25.896407",
     "exception": false,
     "start_time": "2025-04-30T02:57:25.836510",
     "status": "completed"
    },
    "tags": []
   },
   "outputs": [
    {
     "data": {
      "text/html": [
       "<div>\n",
       "<style scoped>\n",
       "    .dataframe tbody tr th:only-of-type {\n",
       "        vertical-align: middle;\n",
       "    }\n",
       "\n",
       "    .dataframe tbody tr th {\n",
       "        vertical-align: top;\n",
       "    }\n",
       "\n",
       "    .dataframe thead th {\n",
       "        text-align: right;\n",
       "    }\n",
       "</style>\n",
       "<table border=\"1\" class=\"dataframe\">\n",
       "  <thead>\n",
       "    <tr style=\"text-align: right;\">\n",
       "      <th></th>\n",
       "      <th>id</th>\n",
       "      <th>member_id</th>\n",
       "      <th>loan_amnt</th>\n",
       "      <th>funded_amnt</th>\n",
       "      <th>funded_amnt_inv</th>\n",
       "      <th>term</th>\n",
       "      <th>int_rate</th>\n",
       "      <th>installment</th>\n",
       "      <th>grade</th>\n",
       "      <th>sub_grade</th>\n",
       "      <th>...</th>\n",
       "      <th>total_bal_il</th>\n",
       "      <th>il_util</th>\n",
       "      <th>open_rv_12m</th>\n",
       "      <th>open_rv_24m</th>\n",
       "      <th>max_bal_bc</th>\n",
       "      <th>all_util</th>\n",
       "      <th>total_rev_hi_lim</th>\n",
       "      <th>inq_fi</th>\n",
       "      <th>total_cu_tl</th>\n",
       "      <th>inq_last_12m</th>\n",
       "    </tr>\n",
       "  </thead>\n",
       "  <tbody>\n",
       "    <tr>\n",
       "      <th>0</th>\n",
       "      <td>1077501</td>\n",
       "      <td>1296599</td>\n",
       "      <td>5000.0</td>\n",
       "      <td>5000.0</td>\n",
       "      <td>4975.0</td>\n",
       "      <td>36 months</td>\n",
       "      <td>10.65</td>\n",
       "      <td>162.87</td>\n",
       "      <td>B</td>\n",
       "      <td>B2</td>\n",
       "      <td>...</td>\n",
       "      <td>NaN</td>\n",
       "      <td>NaN</td>\n",
       "      <td>NaN</td>\n",
       "      <td>NaN</td>\n",
       "      <td>NaN</td>\n",
       "      <td>NaN</td>\n",
       "      <td>NaN</td>\n",
       "      <td>NaN</td>\n",
       "      <td>NaN</td>\n",
       "      <td>NaN</td>\n",
       "    </tr>\n",
       "    <tr>\n",
       "      <th>1</th>\n",
       "      <td>1077430</td>\n",
       "      <td>1314167</td>\n",
       "      <td>2500.0</td>\n",
       "      <td>2500.0</td>\n",
       "      <td>2500.0</td>\n",
       "      <td>60 months</td>\n",
       "      <td>15.27</td>\n",
       "      <td>59.83</td>\n",
       "      <td>C</td>\n",
       "      <td>C4</td>\n",
       "      <td>...</td>\n",
       "      <td>NaN</td>\n",
       "      <td>NaN</td>\n",
       "      <td>NaN</td>\n",
       "      <td>NaN</td>\n",
       "      <td>NaN</td>\n",
       "      <td>NaN</td>\n",
       "      <td>NaN</td>\n",
       "      <td>NaN</td>\n",
       "      <td>NaN</td>\n",
       "      <td>NaN</td>\n",
       "    </tr>\n",
       "    <tr>\n",
       "      <th>2</th>\n",
       "      <td>1077175</td>\n",
       "      <td>1313524</td>\n",
       "      <td>2400.0</td>\n",
       "      <td>2400.0</td>\n",
       "      <td>2400.0</td>\n",
       "      <td>36 months</td>\n",
       "      <td>15.96</td>\n",
       "      <td>84.33</td>\n",
       "      <td>C</td>\n",
       "      <td>C5</td>\n",
       "      <td>...</td>\n",
       "      <td>NaN</td>\n",
       "      <td>NaN</td>\n",
       "      <td>NaN</td>\n",
       "      <td>NaN</td>\n",
       "      <td>NaN</td>\n",
       "      <td>NaN</td>\n",
       "      <td>NaN</td>\n",
       "      <td>NaN</td>\n",
       "      <td>NaN</td>\n",
       "      <td>NaN</td>\n",
       "    </tr>\n",
       "    <tr>\n",
       "      <th>3</th>\n",
       "      <td>1076863</td>\n",
       "      <td>1277178</td>\n",
       "      <td>10000.0</td>\n",
       "      <td>10000.0</td>\n",
       "      <td>10000.0</td>\n",
       "      <td>36 months</td>\n",
       "      <td>13.49</td>\n",
       "      <td>339.31</td>\n",
       "      <td>C</td>\n",
       "      <td>C1</td>\n",
       "      <td>...</td>\n",
       "      <td>NaN</td>\n",
       "      <td>NaN</td>\n",
       "      <td>NaN</td>\n",
       "      <td>NaN</td>\n",
       "      <td>NaN</td>\n",
       "      <td>NaN</td>\n",
       "      <td>NaN</td>\n",
       "      <td>NaN</td>\n",
       "      <td>NaN</td>\n",
       "      <td>NaN</td>\n",
       "    </tr>\n",
       "    <tr>\n",
       "      <th>4</th>\n",
       "      <td>1075358</td>\n",
       "      <td>1311748</td>\n",
       "      <td>3000.0</td>\n",
       "      <td>3000.0</td>\n",
       "      <td>3000.0</td>\n",
       "      <td>60 months</td>\n",
       "      <td>12.69</td>\n",
       "      <td>67.79</td>\n",
       "      <td>B</td>\n",
       "      <td>B5</td>\n",
       "      <td>...</td>\n",
       "      <td>NaN</td>\n",
       "      <td>NaN</td>\n",
       "      <td>NaN</td>\n",
       "      <td>NaN</td>\n",
       "      <td>NaN</td>\n",
       "      <td>NaN</td>\n",
       "      <td>NaN</td>\n",
       "      <td>NaN</td>\n",
       "      <td>NaN</td>\n",
       "      <td>NaN</td>\n",
       "    </tr>\n",
       "  </tbody>\n",
       "</table>\n",
       "<p>5 rows × 74 columns</p>\n",
       "</div>"
      ],
      "text/plain": [
       "        id  member_id  loan_amnt  funded_amnt  funded_amnt_inv        term  \\\n",
       "0  1077501    1296599     5000.0       5000.0           4975.0   36 months   \n",
       "1  1077430    1314167     2500.0       2500.0           2500.0   60 months   \n",
       "2  1077175    1313524     2400.0       2400.0           2400.0   36 months   \n",
       "3  1076863    1277178    10000.0      10000.0          10000.0   36 months   \n",
       "4  1075358    1311748     3000.0       3000.0           3000.0   60 months   \n",
       "\n",
       "   int_rate  installment grade sub_grade  ... total_bal_il il_util  \\\n",
       "0     10.65       162.87     B        B2  ...          NaN     NaN   \n",
       "1     15.27        59.83     C        C4  ...          NaN     NaN   \n",
       "2     15.96        84.33     C        C5  ...          NaN     NaN   \n",
       "3     13.49       339.31     C        C1  ...          NaN     NaN   \n",
       "4     12.69        67.79     B        B5  ...          NaN     NaN   \n",
       "\n",
       "  open_rv_12m  open_rv_24m max_bal_bc all_util total_rev_hi_lim inq_fi  \\\n",
       "0         NaN          NaN        NaN      NaN              NaN    NaN   \n",
       "1         NaN          NaN        NaN      NaN              NaN    NaN   \n",
       "2         NaN          NaN        NaN      NaN              NaN    NaN   \n",
       "3         NaN          NaN        NaN      NaN              NaN    NaN   \n",
       "4         NaN          NaN        NaN      NaN              NaN    NaN   \n",
       "\n",
       "  total_cu_tl inq_last_12m  \n",
       "0         NaN          NaN  \n",
       "1         NaN          NaN  \n",
       "2         NaN          NaN  \n",
       "3         NaN          NaN  \n",
       "4         NaN          NaN  \n",
       "\n",
       "[5 rows x 74 columns]"
      ]
     },
     "execution_count": 4,
     "metadata": {},
     "output_type": "execute_result"
    }
   ],
   "source": [
    "df.head()"
   ]
  },
  {
   "cell_type": "code",
   "execution_count": 5,
   "id": "2e5a0261",
   "metadata": {
    "execution": {
     "iopub.execute_input": "2025-04-30T02:57:25.929081Z",
     "iopub.status.busy": "2025-04-30T02:57:25.928669Z",
     "iopub.status.idle": "2025-04-30T02:57:27.668420Z",
     "shell.execute_reply": "2025-04-30T02:57:27.667383Z"
    },
    "papermill": {
     "duration": 1.757933,
     "end_time": "2025-04-30T02:57:27.670067",
     "exception": false,
     "start_time": "2025-04-30T02:57:25.912134",
     "status": "completed"
    },
    "tags": []
   },
   "outputs": [
    {
     "data": {
      "text/html": [
       "<div>\n",
       "<style scoped>\n",
       "    .dataframe tbody tr th:only-of-type {\n",
       "        vertical-align: middle;\n",
       "    }\n",
       "\n",
       "    .dataframe tbody tr th {\n",
       "        vertical-align: top;\n",
       "    }\n",
       "\n",
       "    .dataframe thead th {\n",
       "        text-align: right;\n",
       "    }\n",
       "</style>\n",
       "<table border=\"1\" class=\"dataframe\">\n",
       "  <thead>\n",
       "    <tr style=\"text-align: right;\">\n",
       "      <th></th>\n",
       "      <th>id</th>\n",
       "      <th>member_id</th>\n",
       "      <th>loan_amnt</th>\n",
       "      <th>funded_amnt</th>\n",
       "      <th>funded_amnt_inv</th>\n",
       "      <th>int_rate</th>\n",
       "      <th>installment</th>\n",
       "      <th>annual_inc</th>\n",
       "      <th>dti</th>\n",
       "      <th>delinq_2yrs</th>\n",
       "      <th>...</th>\n",
       "      <th>total_bal_il</th>\n",
       "      <th>il_util</th>\n",
       "      <th>open_rv_12m</th>\n",
       "      <th>open_rv_24m</th>\n",
       "      <th>max_bal_bc</th>\n",
       "      <th>all_util</th>\n",
       "      <th>total_rev_hi_lim</th>\n",
       "      <th>inq_fi</th>\n",
       "      <th>total_cu_tl</th>\n",
       "      <th>inq_last_12m</th>\n",
       "    </tr>\n",
       "  </thead>\n",
       "  <tbody>\n",
       "    <tr>\n",
       "      <th>count</th>\n",
       "      <td>8.873790e+05</td>\n",
       "      <td>8.873790e+05</td>\n",
       "      <td>887379.000000</td>\n",
       "      <td>887379.000000</td>\n",
       "      <td>887379.000000</td>\n",
       "      <td>887379.000000</td>\n",
       "      <td>887379.000000</td>\n",
       "      <td>8.873750e+05</td>\n",
       "      <td>887379.000000</td>\n",
       "      <td>887350.000000</td>\n",
       "      <td>...</td>\n",
       "      <td>21372.000000</td>\n",
       "      <td>18617.000000</td>\n",
       "      <td>21372.000000</td>\n",
       "      <td>21372.000000</td>\n",
       "      <td>21372.000000</td>\n",
       "      <td>21372.000000</td>\n",
       "      <td>8.171030e+05</td>\n",
       "      <td>21372.000000</td>\n",
       "      <td>21372.000000</td>\n",
       "      <td>21372.000000</td>\n",
       "    </tr>\n",
       "    <tr>\n",
       "      <th>mean</th>\n",
       "      <td>3.246513e+07</td>\n",
       "      <td>3.500182e+07</td>\n",
       "      <td>14755.264605</td>\n",
       "      <td>14741.877625</td>\n",
       "      <td>14702.464383</td>\n",
       "      <td>13.246740</td>\n",
       "      <td>436.717127</td>\n",
       "      <td>7.502759e+04</td>\n",
       "      <td>18.157039</td>\n",
       "      <td>0.314442</td>\n",
       "      <td>...</td>\n",
       "      <td>36552.811389</td>\n",
       "      <td>71.535317</td>\n",
       "      <td>1.389060</td>\n",
       "      <td>2.975482</td>\n",
       "      <td>5887.979740</td>\n",
       "      <td>60.831939</td>\n",
       "      <td>3.206862e+04</td>\n",
       "      <td>0.943945</td>\n",
       "      <td>1.537058</td>\n",
       "      <td>1.977307</td>\n",
       "    </tr>\n",
       "    <tr>\n",
       "      <th>std</th>\n",
       "      <td>2.282734e+07</td>\n",
       "      <td>2.411335e+07</td>\n",
       "      <td>8435.455601</td>\n",
       "      <td>8429.897657</td>\n",
       "      <td>8442.106732</td>\n",
       "      <td>4.381867</td>\n",
       "      <td>244.186593</td>\n",
       "      <td>6.469830e+04</td>\n",
       "      <td>17.190626</td>\n",
       "      <td>0.862244</td>\n",
       "      <td>...</td>\n",
       "      <td>43103.833619</td>\n",
       "      <td>23.022862</td>\n",
       "      <td>1.520129</td>\n",
       "      <td>2.631886</td>\n",
       "      <td>5284.701239</td>\n",
       "      <td>20.013254</td>\n",
       "      <td>3.749826e+04</td>\n",
       "      <td>1.446872</td>\n",
       "      <td>2.723339</td>\n",
       "      <td>2.874067</td>\n",
       "    </tr>\n",
       "    <tr>\n",
       "      <th>min</th>\n",
       "      <td>5.473400e+04</td>\n",
       "      <td>7.047300e+04</td>\n",
       "      <td>500.000000</td>\n",
       "      <td>500.000000</td>\n",
       "      <td>0.000000</td>\n",
       "      <td>5.320000</td>\n",
       "      <td>15.670000</td>\n",
       "      <td>0.000000e+00</td>\n",
       "      <td>0.000000</td>\n",
       "      <td>0.000000</td>\n",
       "      <td>...</td>\n",
       "      <td>0.000000</td>\n",
       "      <td>0.000000</td>\n",
       "      <td>0.000000</td>\n",
       "      <td>0.000000</td>\n",
       "      <td>0.000000</td>\n",
       "      <td>0.000000</td>\n",
       "      <td>0.000000e+00</td>\n",
       "      <td>0.000000</td>\n",
       "      <td>0.000000</td>\n",
       "      <td>-4.000000</td>\n",
       "    </tr>\n",
       "    <tr>\n",
       "      <th>25%</th>\n",
       "      <td>9.206643e+06</td>\n",
       "      <td>1.087713e+07</td>\n",
       "      <td>8000.000000</td>\n",
       "      <td>8000.000000</td>\n",
       "      <td>8000.000000</td>\n",
       "      <td>9.990000</td>\n",
       "      <td>260.705000</td>\n",
       "      <td>4.500000e+04</td>\n",
       "      <td>11.910000</td>\n",
       "      <td>0.000000</td>\n",
       "      <td>...</td>\n",
       "      <td>10251.500000</td>\n",
       "      <td>58.600000</td>\n",
       "      <td>0.000000</td>\n",
       "      <td>1.000000</td>\n",
       "      <td>2411.000000</td>\n",
       "      <td>47.700000</td>\n",
       "      <td>1.390000e+04</td>\n",
       "      <td>0.000000</td>\n",
       "      <td>0.000000</td>\n",
       "      <td>0.000000</td>\n",
       "    </tr>\n",
       "    <tr>\n",
       "      <th>50%</th>\n",
       "      <td>3.443327e+07</td>\n",
       "      <td>3.709528e+07</td>\n",
       "      <td>13000.000000</td>\n",
       "      <td>13000.000000</td>\n",
       "      <td>13000.000000</td>\n",
       "      <td>12.990000</td>\n",
       "      <td>382.550000</td>\n",
       "      <td>6.500000e+04</td>\n",
       "      <td>17.650000</td>\n",
       "      <td>0.000000</td>\n",
       "      <td>...</td>\n",
       "      <td>24684.500000</td>\n",
       "      <td>74.900000</td>\n",
       "      <td>1.000000</td>\n",
       "      <td>2.000000</td>\n",
       "      <td>4483.000000</td>\n",
       "      <td>61.900000</td>\n",
       "      <td>2.370000e+04</td>\n",
       "      <td>0.000000</td>\n",
       "      <td>0.000000</td>\n",
       "      <td>2.000000</td>\n",
       "    </tr>\n",
       "    <tr>\n",
       "      <th>75%</th>\n",
       "      <td>5.490814e+07</td>\n",
       "      <td>5.847135e+07</td>\n",
       "      <td>20000.000000</td>\n",
       "      <td>20000.000000</td>\n",
       "      <td>20000.000000</td>\n",
       "      <td>16.200000</td>\n",
       "      <td>572.600000</td>\n",
       "      <td>9.000000e+04</td>\n",
       "      <td>23.950000</td>\n",
       "      <td>0.000000</td>\n",
       "      <td>...</td>\n",
       "      <td>47858.000000</td>\n",
       "      <td>87.600000</td>\n",
       "      <td>2.000000</td>\n",
       "      <td>4.000000</td>\n",
       "      <td>7771.500000</td>\n",
       "      <td>75.200000</td>\n",
       "      <td>3.980000e+04</td>\n",
       "      <td>1.000000</td>\n",
       "      <td>2.000000</td>\n",
       "      <td>3.000000</td>\n",
       "    </tr>\n",
       "    <tr>\n",
       "      <th>max</th>\n",
       "      <td>6.861706e+07</td>\n",
       "      <td>7.354484e+07</td>\n",
       "      <td>35000.000000</td>\n",
       "      <td>35000.000000</td>\n",
       "      <td>35000.000000</td>\n",
       "      <td>28.990000</td>\n",
       "      <td>1445.460000</td>\n",
       "      <td>9.500000e+06</td>\n",
       "      <td>9999.000000</td>\n",
       "      <td>39.000000</td>\n",
       "      <td>...</td>\n",
       "      <td>878459.000000</td>\n",
       "      <td>223.300000</td>\n",
       "      <td>22.000000</td>\n",
       "      <td>43.000000</td>\n",
       "      <td>127305.000000</td>\n",
       "      <td>151.400000</td>\n",
       "      <td>9.999999e+06</td>\n",
       "      <td>17.000000</td>\n",
       "      <td>35.000000</td>\n",
       "      <td>32.000000</td>\n",
       "    </tr>\n",
       "  </tbody>\n",
       "</table>\n",
       "<p>8 rows × 51 columns</p>\n",
       "</div>"
      ],
      "text/plain": [
       "                 id     member_id      loan_amnt    funded_amnt  \\\n",
       "count  8.873790e+05  8.873790e+05  887379.000000  887379.000000   \n",
       "mean   3.246513e+07  3.500182e+07   14755.264605   14741.877625   \n",
       "std    2.282734e+07  2.411335e+07    8435.455601    8429.897657   \n",
       "min    5.473400e+04  7.047300e+04     500.000000     500.000000   \n",
       "25%    9.206643e+06  1.087713e+07    8000.000000    8000.000000   \n",
       "50%    3.443327e+07  3.709528e+07   13000.000000   13000.000000   \n",
       "75%    5.490814e+07  5.847135e+07   20000.000000   20000.000000   \n",
       "max    6.861706e+07  7.354484e+07   35000.000000   35000.000000   \n",
       "\n",
       "       funded_amnt_inv       int_rate    installment    annual_inc  \\\n",
       "count    887379.000000  887379.000000  887379.000000  8.873750e+05   \n",
       "mean      14702.464383      13.246740     436.717127  7.502759e+04   \n",
       "std        8442.106732       4.381867     244.186593  6.469830e+04   \n",
       "min           0.000000       5.320000      15.670000  0.000000e+00   \n",
       "25%        8000.000000       9.990000     260.705000  4.500000e+04   \n",
       "50%       13000.000000      12.990000     382.550000  6.500000e+04   \n",
       "75%       20000.000000      16.200000     572.600000  9.000000e+04   \n",
       "max       35000.000000      28.990000    1445.460000  9.500000e+06   \n",
       "\n",
       "                 dti    delinq_2yrs  ...   total_bal_il       il_util  \\\n",
       "count  887379.000000  887350.000000  ...   21372.000000  18617.000000   \n",
       "mean       18.157039       0.314442  ...   36552.811389     71.535317   \n",
       "std        17.190626       0.862244  ...   43103.833619     23.022862   \n",
       "min         0.000000       0.000000  ...       0.000000      0.000000   \n",
       "25%        11.910000       0.000000  ...   10251.500000     58.600000   \n",
       "50%        17.650000       0.000000  ...   24684.500000     74.900000   \n",
       "75%        23.950000       0.000000  ...   47858.000000     87.600000   \n",
       "max      9999.000000      39.000000  ...  878459.000000    223.300000   \n",
       "\n",
       "        open_rv_12m   open_rv_24m     max_bal_bc      all_util  \\\n",
       "count  21372.000000  21372.000000   21372.000000  21372.000000   \n",
       "mean       1.389060      2.975482    5887.979740     60.831939   \n",
       "std        1.520129      2.631886    5284.701239     20.013254   \n",
       "min        0.000000      0.000000       0.000000      0.000000   \n",
       "25%        0.000000      1.000000    2411.000000     47.700000   \n",
       "50%        1.000000      2.000000    4483.000000     61.900000   \n",
       "75%        2.000000      4.000000    7771.500000     75.200000   \n",
       "max       22.000000     43.000000  127305.000000    151.400000   \n",
       "\n",
       "       total_rev_hi_lim        inq_fi   total_cu_tl  inq_last_12m  \n",
       "count      8.171030e+05  21372.000000  21372.000000  21372.000000  \n",
       "mean       3.206862e+04      0.943945      1.537058      1.977307  \n",
       "std        3.749826e+04      1.446872      2.723339      2.874067  \n",
       "min        0.000000e+00      0.000000      0.000000     -4.000000  \n",
       "25%        1.390000e+04      0.000000      0.000000      0.000000  \n",
       "50%        2.370000e+04      0.000000      0.000000      2.000000  \n",
       "75%        3.980000e+04      1.000000      2.000000      3.000000  \n",
       "max        9.999999e+06     17.000000     35.000000     32.000000  \n",
       "\n",
       "[8 rows x 51 columns]"
      ]
     },
     "execution_count": 5,
     "metadata": {},
     "output_type": "execute_result"
    }
   ],
   "source": [
    "df.describe()"
   ]
  },
  {
   "cell_type": "code",
   "execution_count": 6,
   "id": "bb2d1a39",
   "metadata": {
    "execution": {
     "iopub.execute_input": "2025-04-30T02:57:27.703412Z",
     "iopub.status.busy": "2025-04-30T02:57:27.703076Z",
     "iopub.status.idle": "2025-04-30T02:57:28.919035Z",
     "shell.execute_reply": "2025-04-30T02:57:28.917982Z"
    },
    "papermill": {
     "duration": 1.235592,
     "end_time": "2025-04-30T02:57:28.921125",
     "exception": false,
     "start_time": "2025-04-30T02:57:27.685533",
     "status": "completed"
    },
    "tags": []
   },
   "outputs": [
    {
     "name": "stdout",
     "output_type": "stream",
     "text": [
      "<class 'pandas.core.frame.DataFrame'>\n",
      "RangeIndex: 887379 entries, 0 to 887378\n",
      "Data columns (total 74 columns):\n",
      " #   Column                       Non-Null Count   Dtype  \n",
      "---  ------                       --------------   -----  \n",
      " 0   id                           887379 non-null  int64  \n",
      " 1   member_id                    887379 non-null  int64  \n",
      " 2   loan_amnt                    887379 non-null  float64\n",
      " 3   funded_amnt                  887379 non-null  float64\n",
      " 4   funded_amnt_inv              887379 non-null  float64\n",
      " 5   term                         887379 non-null  object \n",
      " 6   int_rate                     887379 non-null  float64\n",
      " 7   installment                  887379 non-null  float64\n",
      " 8   grade                        887379 non-null  object \n",
      " 9   sub_grade                    887379 non-null  object \n",
      " 10  emp_title                    835917 non-null  object \n",
      " 11  emp_length                   842554 non-null  object \n",
      " 12  home_ownership               887379 non-null  object \n",
      " 13  annual_inc                   887375 non-null  float64\n",
      " 14  verification_status          887379 non-null  object \n",
      " 15  issue_d                      887379 non-null  object \n",
      " 16  loan_status                  887379 non-null  object \n",
      " 17  pymnt_plan                   887379 non-null  object \n",
      " 18  url                          887379 non-null  object \n",
      " 19  desc                         126026 non-null  object \n",
      " 20  purpose                      887379 non-null  object \n",
      " 21  title                        887226 non-null  object \n",
      " 22  zip_code                     887379 non-null  object \n",
      " 23  addr_state                   887379 non-null  object \n",
      " 24  dti                          887379 non-null  float64\n",
      " 25  delinq_2yrs                  887350 non-null  float64\n",
      " 26  earliest_cr_line             887350 non-null  object \n",
      " 27  inq_last_6mths               887350 non-null  float64\n",
      " 28  mths_since_last_delinq       433067 non-null  float64\n",
      " 29  mths_since_last_record       137053 non-null  float64\n",
      " 30  open_acc                     887350 non-null  float64\n",
      " 31  pub_rec                      887350 non-null  float64\n",
      " 32  revol_bal                    887379 non-null  float64\n",
      " 33  revol_util                   886877 non-null  float64\n",
      " 34  total_acc                    887350 non-null  float64\n",
      " 35  initial_list_status          887379 non-null  object \n",
      " 36  out_prncp                    887379 non-null  float64\n",
      " 37  out_prncp_inv                887379 non-null  float64\n",
      " 38  total_pymnt                  887379 non-null  float64\n",
      " 39  total_pymnt_inv              887379 non-null  float64\n",
      " 40  total_rec_prncp              887379 non-null  float64\n",
      " 41  total_rec_int                887379 non-null  float64\n",
      " 42  total_rec_late_fee           887379 non-null  float64\n",
      " 43  recoveries                   887379 non-null  float64\n",
      " 44  collection_recovery_fee      887379 non-null  float64\n",
      " 45  last_pymnt_d                 869720 non-null  object \n",
      " 46  last_pymnt_amnt              887379 non-null  float64\n",
      " 47  next_pymnt_d                 634408 non-null  object \n",
      " 48  last_credit_pull_d           887326 non-null  object \n",
      " 49  collections_12_mths_ex_med   887234 non-null  float64\n",
      " 50  mths_since_last_major_derog  221703 non-null  float64\n",
      " 51  policy_code                  887379 non-null  float64\n",
      " 52  application_type             887379 non-null  object \n",
      " 53  annual_inc_joint             511 non-null     float64\n",
      " 54  dti_joint                    509 non-null     float64\n",
      " 55  verification_status_joint    511 non-null     object \n",
      " 56  acc_now_delinq               887350 non-null  float64\n",
      " 57  tot_coll_amt                 817103 non-null  float64\n",
      " 58  tot_cur_bal                  817103 non-null  float64\n",
      " 59  open_acc_6m                  21372 non-null   float64\n",
      " 60  open_il_6m                   21372 non-null   float64\n",
      " 61  open_il_12m                  21372 non-null   float64\n",
      " 62  open_il_24m                  21372 non-null   float64\n",
      " 63  mths_since_rcnt_il           20810 non-null   float64\n",
      " 64  total_bal_il                 21372 non-null   float64\n",
      " 65  il_util                      18617 non-null   float64\n",
      " 66  open_rv_12m                  21372 non-null   float64\n",
      " 67  open_rv_24m                  21372 non-null   float64\n",
      " 68  max_bal_bc                   21372 non-null   float64\n",
      " 69  all_util                     21372 non-null   float64\n",
      " 70  total_rev_hi_lim             817103 non-null  float64\n",
      " 71  inq_fi                       21372 non-null   float64\n",
      " 72  total_cu_tl                  21372 non-null   float64\n",
      " 73  inq_last_12m                 21372 non-null   float64\n",
      "dtypes: float64(49), int64(2), object(23)\n",
      "memory usage: 501.0+ MB\n"
     ]
    }
   ],
   "source": [
    "df.info()"
   ]
  },
  {
   "cell_type": "code",
   "execution_count": 7,
   "id": "8e8bdbe0",
   "metadata": {
    "execution": {
     "iopub.execute_input": "2025-04-30T02:57:28.958428Z",
     "iopub.status.busy": "2025-04-30T02:57:28.958059Z",
     "iopub.status.idle": "2025-04-30T02:57:30.048761Z",
     "shell.execute_reply": "2025-04-30T02:57:30.047749Z"
    },
    "papermill": {
     "duration": 1.109629,
     "end_time": "2025-04-30T02:57:30.050444",
     "exception": false,
     "start_time": "2025-04-30T02:57:28.940815",
     "status": "completed"
    },
    "tags": []
   },
   "outputs": [
    {
     "data": {
      "text/plain": [
       "id                       0\n",
       "member_id                0\n",
       "loan_amnt                0\n",
       "funded_amnt              0\n",
       "funded_amnt_inv          0\n",
       "                     ...  \n",
       "all_util            866007\n",
       "total_rev_hi_lim     70276\n",
       "inq_fi              866007\n",
       "total_cu_tl         866007\n",
       "inq_last_12m        866007\n",
       "Length: 74, dtype: int64"
      ]
     },
     "execution_count": 7,
     "metadata": {},
     "output_type": "execute_result"
    }
   ],
   "source": [
    "df.isnull().sum()"
   ]
  },
  {
   "cell_type": "code",
   "execution_count": 8,
   "id": "f7b7e26f",
   "metadata": {
    "execution": {
     "iopub.execute_input": "2025-04-30T02:57:30.083576Z",
     "iopub.status.busy": "2025-04-30T02:57:30.083237Z",
     "iopub.status.idle": "2025-04-30T02:57:33.147729Z",
     "shell.execute_reply": "2025-04-30T02:57:33.146637Z"
    },
    "papermill": {
     "duration": 3.08305,
     "end_time": "2025-04-30T02:57:33.149448",
     "exception": false,
     "start_time": "2025-04-30T02:57:30.066398",
     "status": "completed"
    },
    "tags": []
   },
   "outputs": [
    {
     "name": "stdout",
     "output_type": "stream",
     "text": [
      "Duplicate Rows: 0\n"
     ]
    }
   ],
   "source": [
    "print(\"Duplicate Rows:\", df.duplicated().sum())"
   ]
  },
  {
   "cell_type": "code",
   "execution_count": 9,
   "id": "8ad1a37e",
   "metadata": {
    "execution": {
     "iopub.execute_input": "2025-04-30T02:57:33.182406Z",
     "iopub.status.busy": "2025-04-30T02:57:33.182033Z",
     "iopub.status.idle": "2025-04-30T02:57:35.246255Z",
     "shell.execute_reply": "2025-04-30T02:57:35.245267Z"
    },
    "papermill": {
     "duration": 2.082701,
     "end_time": "2025-04-30T02:57:35.248202",
     "exception": false,
     "start_time": "2025-04-30T02:57:33.165501",
     "status": "completed"
    },
    "tags": []
   },
   "outputs": [
    {
     "data": {
      "text/plain": [
       "id                  887379\n",
       "member_id           887379\n",
       "loan_amnt             1372\n",
       "funded_amnt           1372\n",
       "funded_amnt_inv       9856\n",
       "                     ...  \n",
       "all_util              1128\n",
       "total_rev_hi_lim     21251\n",
       "inq_fi                  18\n",
       "total_cu_tl             33\n",
       "inq_last_12m            29\n",
       "Length: 74, dtype: int64"
      ]
     },
     "execution_count": 9,
     "metadata": {},
     "output_type": "execute_result"
    }
   ],
   "source": [
    "df.nunique()"
   ]
  },
  {
   "cell_type": "markdown",
   "id": "b2047ab7",
   "metadata": {
    "papermill": {
     "duration": 0.015886,
     "end_time": "2025-04-30T02:57:35.280724",
     "exception": false,
     "start_time": "2025-04-30T02:57:35.264838",
     "status": "completed"
    },
    "tags": []
   },
   "source": [
    "### Dataset Exploration Summary\n",
    "\n",
    "After loading and exploring the dataset, several key observations about the data quality and structure were made:\n",
    "\n",
    "#### 1. Data Volume\n",
    "- **~887,000 rows** and **74 columns** → a very large and rich dataset.\n",
    "- ✅ Sufficient sample size to build a robust credit scorecard.\n",
    "\n",
    "#### 2. Feature Types\n",
    "- **Continuous variables** (e.g., `loan_amnt`, `int_rate`, `annual_inc`, `dti`).\n",
    "- **Categorical variables** (e.g., `term`, `grade`, `purpose`, `home_ownership`).\n",
    "- **Text fields** (e.g., `emp_title`, `desc`) that would require heavy cleaning → likely not used.\n",
    "- **Timestamp fields** (e.g., `issue_d`, `earliest_cr_line`) → candidates for feature engineering.\n",
    "\n",
    "✅ Good variety to engineer **meaningful predictive features**.\n",
    "\n",
    "#### 3. Data Quality: Missing Values\n",
    "- **Extreme missingness** (>95%) in fields like:\n",
    "  - `il_util`, `open_il_24m`, `all_util`, etc.\n",
    "  - → Likely useless for modeling — will be dropped.\n",
    "- **Moderate missingness** (~5–10%) in features like:\n",
    "  - `total_rev_hi_lim`, `tot_coll_amt`, `tot_cur_bal`\n",
    "  - → Reasonable, can be imputed safely.\n",
    "\n",
    "✅ Overall: **Manageable missingness** once high-missing columns are removed.\n",
    "\n",
    "#### 4. Data Quality: Duplicates\n",
    "- **No duplicate rows** detected.\n",
    "\n",
    "#### 5. Suspicious Columns (Potential Leakage)\n",
    "- Some fields reflect **post-loan performance**, such as:\n",
    "  - `total_pymnt`, `out_prncp`, `recoveries`, `collection_recovery_fee`\n",
    "- → These are future information and must be dropped before modeling.\n",
    "\n",
    "#### 6. ID Columns and Overgranularity\n",
    "- Columns like `id`, `member_id`, and `url`:\n",
    "  - Unique values per row → pure identifiers, no predictive value → will be dropped.\n",
    "- Columns like `emp_title`:\n",
    "  - Extremely high cardinality (hundreds of thousands of unique entries).\n",
    "  - → Difficult to model directly without NLP techniques → will be ignored for now.\n"
   ]
  },
  {
   "cell_type": "markdown",
   "id": "b016471c",
   "metadata": {
    "papermill": {
     "duration": 0.01619,
     "end_time": "2025-04-30T02:57:35.313184",
     "exception": false,
     "start_time": "2025-04-30T02:57:35.296994",
     "status": "completed"
    },
    "tags": []
   },
   "source": [
    "## Define the Modeling Target"
   ]
  },
  {
   "cell_type": "code",
   "execution_count": 10,
   "id": "8c36c8d3",
   "metadata": {
    "execution": {
     "iopub.execute_input": "2025-04-30T02:57:35.346991Z",
     "iopub.status.busy": "2025-04-30T02:57:35.346632Z",
     "iopub.status.idle": "2025-04-30T02:57:35.386654Z",
     "shell.execute_reply": "2025-04-30T02:57:35.385871Z"
    },
    "papermill": {
     "duration": 0.058653,
     "end_time": "2025-04-30T02:57:35.388060",
     "exception": false,
     "start_time": "2025-04-30T02:57:35.329407",
     "status": "completed"
    },
    "tags": []
   },
   "outputs": [
    {
     "data": {
      "text/plain": [
       "loan_status\n",
       "Current                                                601779\n",
       "Fully Paid                                             207723\n",
       "Charged Off                                             45248\n",
       "Late (31-120 days)                                      11591\n",
       "Issued                                                   8460\n",
       "In Grace Period                                          6253\n",
       "Late (16-30 days)                                        2357\n",
       "Does not meet the credit policy. Status:Fully Paid       1988\n",
       "Default                                                  1219\n",
       "Does not meet the credit policy. Status:Charged Off       761\n",
       "Name: count, dtype: int64"
      ]
     },
     "execution_count": 10,
     "metadata": {},
     "output_type": "execute_result"
    }
   ],
   "source": [
    "# Explore unique values in loan_status\n",
    "df['loan_status'].value_counts(dropna=False)"
   ]
  },
  {
   "cell_type": "markdown",
   "id": "5ee4e127",
   "metadata": {
    "papermill": {
     "duration": 0.015497,
     "end_time": "2025-04-30T02:57:35.419552",
     "exception": false,
     "start_time": "2025-04-30T02:57:35.404055",
     "status": "completed"
    },
    "tags": []
   },
   "source": [
    "**Observation**:\n",
    "- Most borrowers are Current or Fully Paid (good outcomes).\n",
    "- A smaller percentage are Charged Off, Default, or Late (bad outcomes).\n",
    "- Some statuses like Issued, In Grace Period are ambiguous."
   ]
  },
  {
   "cell_type": "markdown",
   "id": "35a6bc46",
   "metadata": {
    "papermill": {
     "duration": 0.069931,
     "end_time": "2025-04-30T02:57:35.505333",
     "exception": false,
     "start_time": "2025-04-30T02:57:35.435402",
     "status": "completed"
    },
    "tags": []
   },
   "source": [
    "**Target Mapping**\n",
    "\n",
    "| Original Loan Status                            | Meaning                            | Final Mapping         |\n",
    "|--------------------------------------------------|------------------------------------|------------------------|\n",
    "| Fully Paid, Current                             | Paid off or still performing       | ✅ Good (0)            |\n",
    "| Charged Off, Default, Late (16-120 days)        | Severe delinquency or default      | ❌ Bad (1)             |\n",
    "| Issued, In Grace Period                         | Ambiguous                          | 🚫 Exclude from modeling |"
   ]
  },
  {
   "cell_type": "code",
   "execution_count": 11,
   "id": "c972cecc",
   "metadata": {
    "execution": {
     "iopub.execute_input": "2025-04-30T02:57:35.538808Z",
     "iopub.status.busy": "2025-04-30T02:57:35.538478Z",
     "iopub.status.idle": "2025-04-30T02:57:35.542902Z",
     "shell.execute_reply": "2025-04-30T02:57:35.542026Z"
    },
    "papermill": {
     "duration": 0.022721,
     "end_time": "2025-04-30T02:57:35.544218",
     "exception": false,
     "start_time": "2025-04-30T02:57:35.521497",
     "status": "completed"
    },
    "tags": []
   },
   "outputs": [],
   "source": [
    "def map_loan_status(x):\n",
    "    if x in ['Charged Off', 'Default', 'Late (31-120 days)', 'Late (16-30 days)', 'Does not meet the credit policy. Status:Charged Off']:\n",
    "        return 1   # BAD borrower\n",
    "    elif x in ['Fully Paid', 'Current', 'Does not meet the credit policy. Status:Fully Paid']:\n",
    "        return 0   # GOOD borrower\n",
    "    else:\n",
    "        return None  # Exclude these"
   ]
  },
  {
   "cell_type": "code",
   "execution_count": 12,
   "id": "b73be1d4",
   "metadata": {
    "execution": {
     "iopub.execute_input": "2025-04-30T02:57:35.577641Z",
     "iopub.status.busy": "2025-04-30T02:57:35.577297Z",
     "iopub.status.idle": "2025-04-30T02:57:36.291030Z",
     "shell.execute_reply": "2025-04-30T02:57:36.290103Z"
    },
    "papermill": {
     "duration": 0.732392,
     "end_time": "2025-04-30T02:57:36.292782",
     "exception": false,
     "start_time": "2025-04-30T02:57:35.560390",
     "status": "completed"
    },
    "tags": []
   },
   "outputs": [],
   "source": [
    "df['target'] = df['loan_status'].apply(map_loan_status)\n",
    "df = df.dropna(subset=['target'])  # Remove rows without a clear target\n",
    "df['target'] = df['target'].astype(int)"
   ]
  },
  {
   "cell_type": "code",
   "execution_count": 13,
   "id": "da4bf92b",
   "metadata": {
    "execution": {
     "iopub.execute_input": "2025-04-30T02:57:36.326082Z",
     "iopub.status.busy": "2025-04-30T02:57:36.325722Z",
     "iopub.status.idle": "2025-04-30T02:57:36.347116Z",
     "shell.execute_reply": "2025-04-30T02:57:36.345991Z"
    },
    "papermill": {
     "duration": 0.039716,
     "end_time": "2025-04-30T02:57:36.348592",
     "exception": false,
     "start_time": "2025-04-30T02:57:36.308876",
     "status": "completed"
    },
    "tags": []
   },
   "outputs": [
    {
     "name": "stdout",
     "output_type": "stream",
     "text": [
      "📊 Class Balance:\n",
      "           Count  Percentage\n",
      "target                      \n",
      "Good (0)  811490       92.99\n",
      "Bad (1)    61176        7.01\n"
     ]
    }
   ],
   "source": [
    "# Count and percentage distribution\n",
    "class_counts = df['target'].value_counts()\n",
    "class_percent = df['target'].value_counts(normalize=True) * 100\n",
    "\n",
    "# Display as table\n",
    "balance_df = pd.DataFrame({\n",
    "    'Count': class_counts,\n",
    "    'Percentage': class_percent.round(2)\n",
    "}).rename(index={0: 'Good (0)', 1: 'Bad (1)'})\n",
    "\n",
    "print(\"📊 Class Balance:\")\n",
    "print(balance_df)"
   ]
  },
  {
   "cell_type": "markdown",
   "id": "26f747f9",
   "metadata": {
    "papermill": {
     "duration": 0.015773,
     "end_time": "2025-04-30T02:57:36.380502",
     "exception": false,
     "start_time": "2025-04-30T02:57:36.364729",
     "status": "completed"
    },
    "tags": []
   },
   "source": [
    "The dataset is heavily imbalanced, with only ~7% of loans classified as defaulted or risky.\n",
    "\n",
    "This is typical in credit risk modeling, where defaults are relatively rare but high-stakes.\n",
    "\n",
    "Accuracy is not a reliable metric here. Instead, we will use:\n",
    "- ROC AUC (area under the curve)\n",
    "- KS Statistic\n",
    "\n",
    "We do not need to balance the data manually for scorecard modeling, since:\n",
    "- Logistic regression + WOE works well even under imbalance\n",
    "- We evaluate using ranking metrics, not hard labels\n",
    "\n",
    "But we will need to perform stratified train-test split to preserve the imbalance in both sets"
   ]
  },
  {
   "cell_type": "markdown",
   "id": "bf953641",
   "metadata": {
    "papermill": {
     "duration": 0.015717,
     "end_time": "2025-04-30T02:57:36.412304",
     "exception": false,
     "start_time": "2025-04-30T02:57:36.396587",
     "status": "completed"
    },
    "tags": []
   },
   "source": [
    "## Drop Meaningless and Future Leakage Columns"
   ]
  },
  {
   "cell_type": "markdown",
   "id": "9375a5ea",
   "metadata": {
    "papermill": {
     "duration": 0.015803,
     "end_time": "2025-04-30T02:57:36.444038",
     "exception": false,
     "start_time": "2025-04-30T02:57:36.428235",
     "status": "completed"
    },
    "tags": []
   },
   "source": [
    "Data leakage refers to including variables in training that contain information not available at prediction time.\n",
    "This inflates performance and leads to models that fail in production.\n",
    "For example, `total_pymnt` is known only after the borrower repays (or defaults) - including it would leak the outcome.\n",
    "\n",
    "✅ Dropping these columns ensures the model only uses features available at loan approval time, which is critical for real-world deployability."
   ]
  },
  {
   "cell_type": "markdown",
   "id": "fcec0cd5",
   "metadata": {
    "papermill": {
     "duration": 0.015791,
     "end_time": "2025-04-30T02:57:36.475853",
     "exception": false,
     "start_time": "2025-04-30T02:57:36.460062",
     "status": "completed"
    },
    "tags": []
   },
   "source": [
    "Remove features that are:\n",
    "- Non-predictive (e.g., identifiers, URLs)\n",
    "- High-risk for data leakage (i.e., they contain future information unavailable at loan origination)\n",
    "- Sparse, redundant, or too messy to clean effectively"
   ]
  },
  {
   "cell_type": "markdown",
   "id": "2fff7775",
   "metadata": {
    "papermill": {
     "duration": 0.01576,
     "end_time": "2025-04-30T02:57:36.507493",
     "exception": false,
     "start_time": "2025-04-30T02:57:36.491733",
     "status": "completed"
    },
    "tags": []
   },
   "source": [
    "**Columns Dropped & Reasons**\n",
    "\n",
    "| Column(s)                                                  | Reason                                               |\n",
    "|------------------------------------------------------------|------------------------------------------------------|\n",
    "| id, member_id                                              | Pure identifiers - not predictive                    |\n",
    "| loan_status                                                | Already mapped to the target variable                |\n",
    "| url, zip_code                                              | Internal link / privacy-sensitive granular data      |\n",
    "| desc, emp_title                                            | Free-text fields - would need NLP cleaning           |\n",
    "| title                                                      | User-generated - redundant with purpose              |\n",
    "| policy_code                                                | Almost always 1 - no variance                        |\n",
    "| annual_inc_joint, dti_joint, verification_status_joint     | Valid only for joint apps (rare rows)                |\n",
    "| next_pymnt_d, last_pymnt_d, last_credit_pull_d            | Future information → data leakage                    |\n",
    "| out_prncp, total_pymnt, recoveries, etc.                  | Post-loan performance metrics → leakage              |\n",
    "| mths_since_last_major_derog                               | >70% missing - dropped due to poor quality           |\n"
   ]
  },
  {
   "cell_type": "code",
   "execution_count": 14,
   "id": "07c3e595",
   "metadata": {
    "execution": {
     "iopub.execute_input": "2025-04-30T02:57:36.540778Z",
     "iopub.status.busy": "2025-04-30T02:57:36.540432Z",
     "iopub.status.idle": "2025-04-30T02:57:36.544920Z",
     "shell.execute_reply": "2025-04-30T02:57:36.544117Z"
    },
    "papermill": {
     "duration": 0.022928,
     "end_time": "2025-04-30T02:57:36.546406",
     "exception": false,
     "start_time": "2025-04-30T02:57:36.523478",
     "status": "completed"
    },
    "tags": []
   },
   "outputs": [],
   "source": [
    "drop_cols = [\n",
    "    'id', 'member_id', 'loan_status', 'url', 'desc', 'title', 'zip_code',\n",
    "    'policy_code', 'next_pymnt_d', 'last_pymnt_d', 'last_credit_pull_d',\n",
    "    'annual_inc_joint', 'dti_joint', 'verification_status_joint', 'emp_title',\n",
    "    'out_prncp', 'out_prncp_inv', 'total_pymnt', 'total_pymnt_inv',\n",
    "    'total_rec_prncp', 'total_rec_int', 'total_rec_late_fee',\n",
    "    'recoveries', 'collection_recovery_fee', 'mths_since_last_major_derog'\n",
    "]"
   ]
  },
  {
   "cell_type": "code",
   "execution_count": 15,
   "id": "dc68237a",
   "metadata": {
    "execution": {
     "iopub.execute_input": "2025-04-30T02:57:36.579669Z",
     "iopub.status.busy": "2025-04-30T02:57:36.579341Z",
     "iopub.status.idle": "2025-04-30T02:57:36.784990Z",
     "shell.execute_reply": "2025-04-30T02:57:36.784096Z"
    },
    "papermill": {
     "duration": 0.224362,
     "end_time": "2025-04-30T02:57:36.786842",
     "exception": false,
     "start_time": "2025-04-30T02:57:36.562480",
     "status": "completed"
    },
    "tags": []
   },
   "outputs": [],
   "source": [
    "df = df.drop(columns=drop_cols)"
   ]
  },
  {
   "cell_type": "markdown",
   "id": "2153036a",
   "metadata": {
    "papermill": {
     "duration": 0.015793,
     "end_time": "2025-04-30T02:57:36.819152",
     "exception": false,
     "start_time": "2025-04-30T02:57:36.803359",
     "status": "completed"
    },
    "tags": []
   },
   "source": [
    "## Handle High-Cardinality Categorical & Timestamp Columns"
   ]
  },
  {
   "cell_type": "markdown",
   "id": "47e3d240",
   "metadata": {
    "papermill": {
     "duration": 0.015728,
     "end_time": "2025-04-30T02:57:36.850961",
     "exception": false,
     "start_time": "2025-04-30T02:57:36.835233",
     "status": "completed"
    },
    "tags": []
   },
   "source": [
    "Fix columns with too many unique values (i.e., high-cardinality) that are likely:\n",
    "- IDs in disguise (not useful for modeling), or\n",
    "- Timestamps or free-text fields that should be engineered or removed"
   ]
  },
  {
   "cell_type": "code",
   "execution_count": 16,
   "id": "ac26cadc",
   "metadata": {
    "execution": {
     "iopub.execute_input": "2025-04-30T02:57:36.884465Z",
     "iopub.status.busy": "2025-04-30T02:57:36.884119Z",
     "iopub.status.idle": "2025-04-30T02:57:37.590340Z",
     "shell.execute_reply": "2025-04-30T02:57:37.589052Z"
    },
    "papermill": {
     "duration": 0.725136,
     "end_time": "2025-04-30T02:57:37.592088",
     "exception": false,
     "start_time": "2025-04-30T02:57:36.866952",
     "status": "completed"
    },
    "tags": []
   },
   "outputs": [
    {
     "name": "stdout",
     "output_type": "stream",
     "text": [
      "\n",
      "Columns with 2 unique values:\n",
      "  - term\n",
      "  - pymnt_plan\n",
      "  - initial_list_status\n",
      "  - application_type\n",
      "\n",
      "Columns with 3 unique values:\n",
      "  - verification_status\n",
      "\n",
      "Columns with 6 unique values:\n",
      "  - home_ownership\n",
      "\n",
      "Columns with 7 unique values:\n",
      "  - grade\n",
      "\n",
      "Columns with 11 unique values:\n",
      "  - emp_length\n",
      "\n",
      "Columns with 14 unique values:\n",
      "  - purpose\n",
      "\n",
      "Columns with 35 unique values:\n",
      "  - sub_grade\n",
      "\n",
      "Columns with 51 unique values:\n",
      "  - addr_state\n",
      "\n",
      "Columns with 103 unique values:\n",
      "  - issue_d\n",
      "\n",
      "Columns with 697 unique values:\n",
      "  - earliest_cr_line\n"
     ]
    }
   ],
   "source": [
    "# Group Categorical Columns by Uniqueness\n",
    "def group_columns_by_uniques(df):\n",
    "    unique_counts = df.nunique().sort_values()\n",
    "cat_cols = df.select_dtypes(include='object').columns\n",
    "cat_uniques = df[cat_cols].nunique().sort_values()\n",
    "\n",
    "\n",
    "for n_unique in sorted(cat_uniques.unique()):\n",
    "    cols_in_group = cat_uniques[cat_uniques == n_unique].index.tolist()\n",
    "    print(f\"\\nColumns with {n_unique} unique values:\")\n",
    "    for col in cols_in_group:\n",
    "        print(f\"  - {col}\")"
   ]
  },
  {
   "cell_type": "markdown",
   "id": "4e9d68ed",
   "metadata": {
    "papermill": {
     "duration": 0.016295,
     "end_time": "2025-04-30T02:57:37.624717",
     "exception": false,
     "start_time": "2025-04-30T02:57:37.608422",
     "status": "completed"
    },
    "tags": []
   },
   "source": [
    "We can get from this:\n",
    "- Binary categories (safe to keep)\n",
    "- Medium-cardinality categories (e.g., purpose, emp_length) → can one-hot or encode\n",
    "- Very high-cardinality columns like issue_d, earliest_cr_line → typically timestamps"
   ]
  },
  {
   "cell_type": "code",
   "execution_count": 17,
   "id": "dd73164d",
   "metadata": {
    "execution": {
     "iopub.execute_input": "2025-04-30T02:57:37.658864Z",
     "iopub.status.busy": "2025-04-30T02:57:37.658496Z",
     "iopub.status.idle": "2025-04-30T02:57:37.849237Z",
     "shell.execute_reply": "2025-04-30T02:57:37.848228Z"
    },
    "papermill": {
     "duration": 0.209678,
     "end_time": "2025-04-30T02:57:37.850865",
     "exception": false,
     "start_time": "2025-04-30T02:57:37.641187",
     "status": "completed"
    },
    "tags": []
   },
   "outputs": [
    {
     "name": "stdout",
     "output_type": "stream",
     "text": [
      "Sample values of issue_d:\n",
      "['Dec-2011' 'Nov-2011' 'Oct-2011' 'Sep-2011' 'Aug-2011' 'Jul-2011'\n",
      " 'Jun-2011' 'May-2011' 'Apr-2011' 'Mar-2011']\n",
      "\n",
      "Sample values of earliest_cr_line:\n",
      "['Jan-1985' 'Apr-1999' 'Nov-2001' 'Feb-1996' 'Jan-1996' 'Nov-2004'\n",
      " 'Jul-2005' 'Jan-2007' 'Apr-2004' 'Sep-2004']\n"
     ]
    }
   ],
   "source": [
    "# Examine & Convert Date Features\n",
    "print(\"Sample values of issue_d:\")\n",
    "print(df['issue_d'].dropna().unique()[:10])\n",
    "\n",
    "print(\"\\nSample values of earliest_cr_line:\")\n",
    "print(df['earliest_cr_line'].dropna().unique()[:10])"
   ]
  },
  {
   "cell_type": "markdown",
   "id": "2764e90a",
   "metadata": {
    "papermill": {
     "duration": 0.016775,
     "end_time": "2025-04-30T02:57:37.884738",
     "exception": false,
     "start_time": "2025-04-30T02:57:37.867963",
     "status": "completed"
    },
    "tags": []
   },
   "source": [
    "Both `issue_d` and `earliest_cr_line` are in `%b-%Y` format (e.g., \"Jan-2011\").\n",
    "\n",
    "They are timestamps - not raw categories. We don't drop them immediately."
   ]
  },
  {
   "cell_type": "markdown",
   "id": "b848770a",
   "metadata": {
    "papermill": {
     "duration": 0.016974,
     "end_time": "2025-04-30T02:57:37.919439",
     "exception": false,
     "start_time": "2025-04-30T02:57:37.902465",
     "status": "completed"
    },
    "tags": []
   },
   "source": [
    "**Feature Engineering - Credit History Length**\n",
    "\n",
    "The length of a borrower’s credit history is a strong risk indicator:\n",
    "- Longer history → more credit exposure → potentially more stable borrower\n",
    "- Shorter history → limited behavior → higher uncertainty"
   ]
  },
  {
   "cell_type": "code",
   "execution_count": 18,
   "id": "217bee93",
   "metadata": {
    "execution": {
     "iopub.execute_input": "2025-04-30T02:57:37.953245Z",
     "iopub.status.busy": "2025-04-30T02:57:37.952864Z",
     "iopub.status.idle": "2025-04-30T02:57:38.329007Z",
     "shell.execute_reply": "2025-04-30T02:57:38.328020Z"
    },
    "papermill": {
     "duration": 0.395385,
     "end_time": "2025-04-30T02:57:38.331056",
     "exception": false,
     "start_time": "2025-04-30T02:57:37.935671",
     "status": "completed"
    },
    "tags": []
   },
   "outputs": [],
   "source": [
    "# Convert to datetime\n",
    "df['issue_d'] = pd.to_datetime(df['issue_d'], format='%b-%Y', errors='coerce')\n",
    "df['earliest_cr_line'] = pd.to_datetime(df['earliest_cr_line'], format='%b-%Y', errors='coerce')\n",
    "\n",
    "# Create credit history length (in years)\n",
    "df['credit_history_length'] = (df['issue_d'] - df['earliest_cr_line']).dt.days / 365\n",
    "\n",
    "# Drop all date columns\n",
    "df = df.drop(columns=['issue_d', 'earliest_cr_line'])"
   ]
  },
  {
   "cell_type": "markdown",
   "id": "33714507",
   "metadata": {
    "papermill": {
     "duration": 0.01857,
     "end_time": "2025-04-30T02:57:38.367433",
     "exception": false,
     "start_time": "2025-04-30T02:57:38.348863",
     "status": "completed"
    },
    "tags": []
   },
   "source": [
    "## Handle Missing Values"
   ]
  },
  {
   "cell_type": "markdown",
   "id": "ea6df586",
   "metadata": {
    "papermill": {
     "duration": 0.016375,
     "end_time": "2025-04-30T02:57:38.400087",
     "exception": false,
     "start_time": "2025-04-30T02:57:38.383712",
     "status": "completed"
    },
    "tags": []
   },
   "source": [
    "Missing values are extremely common in credit data — especially for behavioral indicators like delinquencies or inquiries.\n",
    "Rather than remove rows, we treat missingness strategically to avoid information loss while ensuring modeling stability."
   ]
  },
  {
   "cell_type": "code",
   "execution_count": 19,
   "id": "579f525c",
   "metadata": {
    "execution": {
     "iopub.execute_input": "2025-04-30T02:57:38.434265Z",
     "iopub.status.busy": "2025-04-30T02:57:38.433874Z",
     "iopub.status.idle": "2025-04-30T02:57:39.025753Z",
     "shell.execute_reply": "2025-04-30T02:57:39.024455Z"
    },
    "papermill": {
     "duration": 0.611251,
     "end_time": "2025-04-30T02:57:39.027635",
     "exception": false,
     "start_time": "2025-04-30T02:57:38.416384",
     "status": "completed"
    },
    "tags": []
   },
   "outputs": [
    {
     "name": "stdout",
     "output_type": "stream",
     "text": [
      "il_util                       98.669709\n",
      "mths_since_rcnt_il            98.517875\n",
      "total_bal_il                  98.477310\n",
      "open_il_24m                   98.477310\n",
      "open_il_12m                   98.477310\n",
      "open_acc_6m                   98.477310\n",
      "open_rv_12m                   98.477310\n",
      "open_rv_24m                   98.477310\n",
      "open_il_6m                    98.477310\n",
      "all_util                      98.477310\n",
      "inq_fi                        98.477310\n",
      "total_cu_tl                   98.477310\n",
      "inq_last_12m                  98.477310\n",
      "max_bal_bc                    98.477310\n",
      "mths_since_last_record        84.593533\n",
      "mths_since_last_delinq        51.285944\n",
      "total_rev_hi_lim               8.045461\n",
      "tot_coll_amt                   8.045461\n",
      "tot_cur_bal                    8.045461\n",
      "emp_length                     5.036979\n",
      "revol_util                     0.056952\n",
      "collections_12_mths_ex_med     0.016616\n",
      "acc_now_delinq                 0.003323\n",
      "total_acc                      0.003323\n",
      "pub_rec                        0.003323\n",
      "open_acc                       0.003323\n",
      "inq_last_6mths                 0.003323\n",
      "delinq_2yrs                    0.003323\n",
      "credit_history_length          0.003323\n",
      "annual_inc                     0.000458\n",
      "dtype: float64\n"
     ]
    }
   ],
   "source": [
    "# Quantify Missingness\n",
    "missing_report = df.isnull().mean() * 100\n",
    "missing_report = missing_report[missing_report > 0].sort_values(ascending=False)\n",
    "print(missing_report)"
   ]
  },
  {
   "cell_type": "markdown",
   "id": "df43976a",
   "metadata": {
    "papermill": {
     "duration": 0.016317,
     "end_time": "2025-04-30T02:57:39.061476",
     "exception": false,
     "start_time": "2025-04-30T02:57:39.045159",
     "status": "completed"
    },
    "tags": []
   },
   "source": [
    "**Strategy Table**\n",
    "\n",
    "| Missing %   | Strategy      | Reason                                                     |\n",
    "|-------------|---------------|------------------------------------------------------------|\n",
    "| >95%        | Drop          | Almost entirely missing → not reliable                    |\n",
    "| ~50–85%     | Case-by-case  | Retained only if IV is strong or business critical         |\n",
    "| <10%        | Impute        | Safe to fill using median (numeric) or mode (categorical)  |"
   ]
  },
  {
   "cell_type": "code",
   "execution_count": 20,
   "id": "aa1d456e",
   "metadata": {
    "execution": {
     "iopub.execute_input": "2025-04-30T02:57:39.096082Z",
     "iopub.status.busy": "2025-04-30T02:57:39.095665Z",
     "iopub.status.idle": "2025-04-30T02:57:39.099896Z",
     "shell.execute_reply": "2025-04-30T02:57:39.099073Z"
    },
    "papermill": {
     "duration": 0.023608,
     "end_time": "2025-04-30T02:57:39.101573",
     "exception": false,
     "start_time": "2025-04-30T02:57:39.077965",
     "status": "completed"
    },
    "tags": []
   },
   "outputs": [],
   "source": [
    "# Drop Heavily Missing Features\n",
    "drop_heavy_missing = [\n",
    "    'il_util', 'mths_since_rcnt_il', 'total_bal_il', 'open_il_24m',\n",
    "    'open_il_12m', 'open_acc_6m', 'open_rv_12m', 'open_rv_24m',\n",
    "    'open_il_6m', 'all_util', 'inq_fi', 'total_cu_tl', 'inq_last_12m', 'max_bal_bc'\n",
    "]"
   ]
  },
  {
   "cell_type": "code",
   "execution_count": 21,
   "id": "70d7af97",
   "metadata": {
    "execution": {
     "iopub.execute_input": "2025-04-30T02:57:39.135950Z",
     "iopub.status.busy": "2025-04-30T02:57:39.135605Z",
     "iopub.status.idle": "2025-04-30T02:57:39.266061Z",
     "shell.execute_reply": "2025-04-30T02:57:39.265164Z"
    },
    "papermill": {
     "duration": 0.149572,
     "end_time": "2025-04-30T02:57:39.267812",
     "exception": false,
     "start_time": "2025-04-30T02:57:39.118240",
     "status": "completed"
    },
    "tags": []
   },
   "outputs": [],
   "source": [
    "df = df.drop(columns=drop_heavy_missing)"
   ]
  },
  {
   "cell_type": "code",
   "execution_count": 22,
   "id": "b50cce66",
   "metadata": {
    "execution": {
     "iopub.execute_input": "2025-04-30T02:57:39.302551Z",
     "iopub.status.busy": "2025-04-30T02:57:39.302191Z",
     "iopub.status.idle": "2025-04-30T02:57:39.306401Z",
     "shell.execute_reply": "2025-04-30T02:57:39.305446Z"
    },
    "papermill": {
     "duration": 0.023254,
     "end_time": "2025-04-30T02:57:39.308077",
     "exception": false,
     "start_time": "2025-04-30T02:57:39.284823",
     "status": "completed"
    },
    "tags": []
   },
   "outputs": [],
   "source": [
    "# Impute Remaining Missing Features\n",
    "impute_ok = [\n",
    "    'total_rev_hi_lim', 'tot_coll_amt', 'tot_cur_bal', 'emp_length',\n",
    "    'revol_util', 'collections_12_mths_ex_med', 'acc_now_delinq',\n",
    "    'total_acc', 'pub_rec', 'open_acc', 'inq_last_6mths',\n",
    "    'delinq_2yrs', 'credit_history_length', 'annual_inc',\n",
    "    'mths_since_last_record', 'mths_since_last_delinq'  \n",
    "]"
   ]
  },
  {
   "cell_type": "markdown",
   "id": "c2f41039",
   "metadata": {
    "papermill": {
     "duration": 0.016346,
     "end_time": "2025-04-30T02:57:39.341307",
     "exception": false,
     "start_time": "2025-04-30T02:57:39.324961",
     "status": "completed"
    },
    "tags": []
   },
   "source": [
    "| Type of Column              | How to Impute          | Why                                                                                     |\n",
    "|----------------------------|------------------------|------------------------------------------------------------------------------------------|\n",
    "| Numerical columns (floats, ints) | Median                 | Median is robust to outliers and skewed distributions (which is common in finance data). |\n",
    "| Categorical columns (objects)    | Mode (most frequent value) | Because it preserves the dominant category without introducing new values.             |\n"
   ]
  },
  {
   "cell_type": "code",
   "execution_count": 23,
   "id": "5ba24aeb",
   "metadata": {
    "execution": {
     "iopub.execute_input": "2025-04-30T02:57:39.375305Z",
     "iopub.status.busy": "2025-04-30T02:57:39.374913Z",
     "iopub.status.idle": "2025-04-30T02:57:39.762227Z",
     "shell.execute_reply": "2025-04-30T02:57:39.761095Z"
    },
    "papermill": {
     "duration": 0.406312,
     "end_time": "2025-04-30T02:57:39.763980",
     "exception": false,
     "start_time": "2025-04-30T02:57:39.357668",
     "status": "completed"
    },
    "tags": []
   },
   "outputs": [
    {
     "name": "stdout",
     "output_type": "stream",
     "text": [
      "Filled missing values in numerical column: total_rev_hi_lim with median: 23700.0\n",
      "Filled missing values in numerical column: tot_coll_amt with median: 0.0\n",
      "Filled missing values in numerical column: tot_cur_bal with median: 80603.0\n",
      "Filled missing values in numerical column: revol_util with median: 56.0\n",
      "Filled missing values in numerical column: collections_12_mths_ex_med with median: 0.0\n",
      "Filled missing values in numerical column: acc_now_delinq with median: 0.0\n",
      "Filled missing values in numerical column: total_acc with median: 24.0\n",
      "Filled missing values in numerical column: pub_rec with median: 0.0\n",
      "Filled missing values in numerical column: open_acc with median: 11.0\n",
      "Filled missing values in numerical column: inq_last_6mths with median: 0.0\n",
      "Filled missing values in numerical column: delinq_2yrs with median: 0.0\n",
      "Filled missing values in numerical column: credit_history_length with median: 14.846575342465753\n",
      "Filled missing values in numerical column: annual_inc with median: 64800.0\n",
      "Filled missing values in numerical column: mths_since_last_record with median: 70.0\n",
      "Filled missing values in numerical column: mths_since_last_delinq with median: 31.0\n",
      "Filled missing values in categorical column: emp_length with mode: 10+ years\n"
     ]
    }
   ],
   "source": [
    "# Numerical columns in impute_ok (excluding 'emp_length' which is object)\n",
    "numerical_to_impute = [col for col in impute_ok if col != 'emp_length']\n",
    "\n",
    "for col in numerical_to_impute:\n",
    "    median_val = df[col].median()\n",
    "    df[col] = df[col].fillna(median_val)\n",
    "    print(f\"Filled missing values in numerical column: {col} with median: {median_val}\")\n",
    "\n",
    "# emp_length is categorical → use mode\n",
    "mode_val = df['emp_length'].mode()[0]\n",
    "df['emp_length'] = df['emp_length'].fillna(mode_val)\n",
    "print(f\"Filled missing values in categorical column: emp_length with mode: {mode_val}\")"
   ]
  },
  {
   "cell_type": "markdown",
   "id": "6aff5d6f",
   "metadata": {
    "papermill": {
     "duration": 0.017024,
     "end_time": "2025-04-30T02:57:39.798039",
     "exception": false,
     "start_time": "2025-04-30T02:57:39.781015",
     "status": "completed"
    },
    "tags": []
   },
   "source": [
    "# Feature Engineering"
   ]
  },
  {
   "cell_type": "markdown",
   "id": "0f9f977a",
   "metadata": {
    "papermill": {
     "duration": 0.016357,
     "end_time": "2025-04-30T02:57:39.831040",
     "exception": false,
     "start_time": "2025-04-30T02:57:39.814683",
     "status": "completed"
    },
    "tags": []
   },
   "source": [
    "## Loan Burden Ratio"
   ]
  },
  {
   "cell_type": "markdown",
   "id": "8444cbaa",
   "metadata": {
    "papermill": {
     "duration": 0.016201,
     "end_time": "2025-04-30T02:57:39.864043",
     "exception": false,
     "start_time": "2025-04-30T02:57:39.847842",
     "status": "completed"
    },
    "tags": []
   },
   "source": [
    "While `dti` (debt-to-income) and `loan_amnt` are often used in risk modeling, they each tell only part of the story. `loan_burden` combines them into a single, more interpretable measure of how much of a borrower's income will be strained by the new loan."
   ]
  },
  {
   "cell_type": "markdown",
   "id": "127bb0eb",
   "metadata": {
    "papermill": {
     "duration": 0.016092,
     "end_time": "2025-04-30T02:57:39.896444",
     "exception": false,
     "start_time": "2025-04-30T02:57:39.880352",
     "status": "completed"
    },
    "tags": []
   },
   "source": [
    "**Formula:**\n",
    "$$\n",
    "loanburden = loan amnt / (annual inc + 1)\n",
    "$$\n",
    "The `+1` prevents division-by-zero errors.\n",
    "\n",
    "**Why It Works:**\n",
    "\n",
    "- It contextualizes loan size relative to the applicant's income.\n",
    "- High values → borrower is taking a large loan relative to earnings - a key signal of overextension or potential risk.\n",
    "- Helps simplify modeling by consolidating two correlated variables (`loan_amnt` and `annual_inc`) into a single, interpretable feature."
   ]
  },
  {
   "cell_type": "code",
   "execution_count": 24,
   "id": "ae1ae3b6",
   "metadata": {
    "execution": {
     "iopub.execute_input": "2025-04-30T02:57:39.930378Z",
     "iopub.status.busy": "2025-04-30T02:57:39.929969Z",
     "iopub.status.idle": "2025-04-30T02:57:39.949521Z",
     "shell.execute_reply": "2025-04-30T02:57:39.948373Z"
    },
    "papermill": {
     "duration": 0.038738,
     "end_time": "2025-04-30T02:57:39.951477",
     "exception": false,
     "start_time": "2025-04-30T02:57:39.912739",
     "status": "completed"
    },
    "tags": []
   },
   "outputs": [],
   "source": [
    "df['loan_burden'] = df['loan_amnt'] / (df['annual_inc'] + 1)"
   ]
  },
  {
   "cell_type": "code",
   "execution_count": 25,
   "id": "82bf8706",
   "metadata": {
    "execution": {
     "iopub.execute_input": "2025-04-30T02:57:39.986022Z",
     "iopub.status.busy": "2025-04-30T02:57:39.985665Z",
     "iopub.status.idle": "2025-04-30T02:57:40.156538Z",
     "shell.execute_reply": "2025-04-30T02:57:40.155757Z"
    },
    "papermill": {
     "duration": 0.190035,
     "end_time": "2025-04-30T02:57:40.158287",
     "exception": false,
     "start_time": "2025-04-30T02:57:39.968252",
     "status": "completed"
    },
    "tags": []
   },
   "outputs": [],
   "source": [
    "df = df.drop(columns=['loan_amnt', 'dti'])"
   ]
  },
  {
   "cell_type": "markdown",
   "id": "848be9b0",
   "metadata": {
    "papermill": {
     "duration": 0.016238,
     "end_time": "2025-04-30T02:57:40.191732",
     "exception": false,
     "start_time": "2025-04-30T02:57:40.175494",
     "status": "completed"
    },
    "tags": []
   },
   "source": [
    "# Feature Binning"
   ]
  },
  {
   "cell_type": "markdown",
   "id": "78a63ee2",
   "metadata": {
    "papermill": {
     "duration": 0.016223,
     "end_time": "2025-04-30T02:57:40.224641",
     "exception": false,
     "start_time": "2025-04-30T02:57:40.208418",
     "status": "completed"
    },
    "tags": []
   },
   "source": [
    "Binning converts continuous features into discrete intervals that:\n",
    "- Capture non-linear relationships with the target (e.g., credit risk),\n",
    "- Enforce monotonic trends (essential for stable scorecards),\n",
    "- Allow us to apply WOE (Weight of Evidence) transformation easily.\n",
    "- Simplifies interpretation"
   ]
  },
  {
   "cell_type": "markdown",
   "id": "39aa8db1",
   "metadata": {
    "papermill": {
     "duration": 0.016332,
     "end_time": "2025-04-30T02:57:40.257633",
     "exception": false,
     "start_time": "2025-04-30T02:57:40.241301",
     "status": "completed"
    },
    "tags": []
   },
   "source": [
    "**Binning Methods Compared**\n",
    "\n",
    "| Method                 | Pros                            | Cons                               | Use Case                                      |\n",
    "|------------------------|----------------------------------|------------------------------------|-----------------------------------------------|\n",
    "| Quantile Binning       | Fast, stable                    | Ignores target (unsupervised)      | EDA, simple models                            |\n",
    "| Manual Binning         | Business-driven, interpretable  | Needs domain knowledge             | Age, income, known thresholds                 |\n",
    "| Decision Tree Binning ✅ | Supervised, finds optimal splits | Slightly complex, harder to explain | Most predictive, industry standard            |\n",
    "\n",
    "For this project, we chose decision tree binning, which finds optimal cutoffs using entropy gain, guided by the target variable."
   ]
  },
  {
   "cell_type": "markdown",
   "id": "7c5927b0",
   "metadata": {
    "papermill": {
     "duration": 0.016329,
     "end_time": "2025-04-30T02:57:40.291486",
     "exception": false,
     "start_time": "2025-04-30T02:57:40.275157",
     "status": "completed"
    },
    "tags": []
   },
   "source": [
    "We use a shallow Decision Tree Classifier (like a 1D CART tree) to learn the best split points. The resulting intervals (bins) group data into distinct, target-informed bands.\n",
    "\n",
    "**🧮 Formula Behind Binning Logic (Entropy Split)**\n",
    "\n",
    "Each potential split minimizes information entropy, where entropy is defined as:\n",
    "\n",
    "$$\n",
    "H(S) = -p_{good} \\log_2(p_{good}) - p_{bad} \\log_2(p_{bad})\n",
    "$$\n",
    "\n",
    "The decision tree algorithm chooses split thresholds that most reduce the entropy -  \n",
    "i.e., that separate **risky** and **safe** borrowers the best.\n"
   ]
  },
  {
   "cell_type": "code",
   "execution_count": 26,
   "id": "67dbd025",
   "metadata": {
    "execution": {
     "iopub.execute_input": "2025-04-30T02:57:40.326195Z",
     "iopub.status.busy": "2025-04-30T02:57:40.325812Z",
     "iopub.status.idle": "2025-04-30T02:57:40.331012Z",
     "shell.execute_reply": "2025-04-30T02:57:40.330074Z"
    },
    "papermill": {
     "duration": 0.024439,
     "end_time": "2025-04-30T02:57:40.332619",
     "exception": false,
     "start_time": "2025-04-30T02:57:40.308180",
     "status": "completed"
    },
    "tags": []
   },
   "outputs": [],
   "source": [
    "def decision_tree_binning(X, y, max_leaf_nodes=5):\n",
    "    X_reshaped = X.values.reshape(-1, 1)\n",
    "    tree = DecisionTreeClassifier(criterion='entropy', max_leaf_nodes=max_leaf_nodes, min_samples_leaf=0.05)\n",
    "    tree.fit(X_reshaped, y)\n",
    "\n",
    "    thresholds = tree.tree_.threshold\n",
    "    thresholds = thresholds[thresholds != -2]  # -2 = leaf node\n",
    "\n",
    "    bins = [-np.inf] + sorted(thresholds.tolist()) + [np.inf]\n",
    "    return bins"
   ]
  },
  {
   "cell_type": "markdown",
   "id": "16551f77",
   "metadata": {
    "papermill": {
     "duration": 0.016752,
     "end_time": "2025-04-30T02:57:40.366256",
     "exception": false,
     "start_time": "2025-04-30T02:57:40.349504",
     "status": "completed"
    },
    "tags": []
   },
   "source": [
    "\n",
    "`max_leaf_nodes`=5 means we get at most 5 bins → this is a standard industry choice (balance between stability and granularity)."
   ]
  },
  {
   "cell_type": "code",
   "execution_count": 27,
   "id": "e99f1251",
   "metadata": {
    "execution": {
     "iopub.execute_input": "2025-04-30T02:57:40.401024Z",
     "iopub.status.busy": "2025-04-30T02:57:40.400632Z",
     "iopub.status.idle": "2025-04-30T02:57:40.404791Z",
     "shell.execute_reply": "2025-04-30T02:57:40.403805Z"
    },
    "papermill": {
     "duration": 0.023587,
     "end_time": "2025-04-30T02:57:40.406393",
     "exception": false,
     "start_time": "2025-04-30T02:57:40.382806",
     "status": "completed"
    },
    "tags": []
   },
   "outputs": [],
   "source": [
    "# List of numerical features to bin\n",
    "features_to_bin = [\n",
    "    'annual_inc', 'int_rate',\n",
    "    'credit_history_length', 'total_rev_hi_lim',\n",
    "    'open_acc', 'revol_util', 'tot_cur_bal', 'mths_since_last_record', 'mths_since_last_delinq',\n",
    "    'loan_burden'\n",
    "]"
   ]
  },
  {
   "cell_type": "code",
   "execution_count": 28,
   "id": "8045f0d1",
   "metadata": {
    "execution": {
     "iopub.execute_input": "2025-04-30T02:57:40.442826Z",
     "iopub.status.busy": "2025-04-30T02:57:40.442465Z",
     "iopub.status.idle": "2025-04-30T02:57:44.992911Z",
     "shell.execute_reply": "2025-04-30T02:57:44.991748Z"
    },
    "papermill": {
     "duration": 4.570824,
     "end_time": "2025-04-30T02:57:44.994571",
     "exception": false,
     "start_time": "2025-04-30T02:57:40.423747",
     "status": "completed"
    },
    "tags": []
   },
   "outputs": [
    {
     "name": "stdout",
     "output_type": "stream",
     "text": [
      "Binned annual_inc into 5 tree-based bins.\n",
      "Binned int_rate into 5 tree-based bins.\n",
      "Binned credit_history_length into 5 tree-based bins.\n",
      "Binned total_rev_hi_lim into 5 tree-based bins.\n",
      "Binned open_acc into 5 tree-based bins.\n",
      "Binned revol_util into 5 tree-based bins.\n",
      "Binned tot_cur_bal into 5 tree-based bins.\n",
      "Binned mths_since_last_record into 3 tree-based bins.\n",
      "Binned mths_since_last_delinq into 5 tree-based bins.\n",
      "Binned loan_burden into 5 tree-based bins.\n"
     ]
    }
   ],
   "source": [
    "# Tree-bin each feature\n",
    "for feature in features_to_bin:\n",
    "    try:\n",
    "        bins = decision_tree_binning(df[feature], df['target'])\n",
    "        df[feature + '_bin'] = pd.cut(df[feature], bins=bins)\n",
    "        print(f\"Binned {feature} into {len(bins)-1} tree-based bins.\")\n",
    "    except Exception as e:\n",
    "        print(f\"❌ Could not bin {feature}: {e}\")"
   ]
  },
  {
   "cell_type": "markdown",
   "id": "15b59e3d",
   "metadata": {
    "papermill": {
     "duration": 0.016618,
     "end_time": "2025-04-30T02:57:45.028265",
     "exception": false,
     "start_time": "2025-04-30T02:57:45.011647",
     "status": "completed"
    },
    "tags": []
   },
   "source": [
    "# WOE (Weight of Evidence) Transformation and IV Filtering"
   ]
  },
  {
   "cell_type": "markdown",
   "id": "8a5bb722",
   "metadata": {
    "papermill": {
     "duration": 0.016547,
     "end_time": "2025-04-30T02:57:45.061823",
     "exception": false,
     "start_time": "2025-04-30T02:57:45.045276",
     "status": "completed"
    },
    "tags": []
   },
   "source": [
    "**🧮 What is WOE?**\n",
    "\n",
    "**Weight of Evidence (WOE)** quantifies the strength and direction of the relationship between a feature bin and the target (good/bad):\n",
    "\n",
    "$$\n",
    "WOE_i = \\ln \\left( \\frac{\\text{Distribution of Goods in Bin } i}{\\text{Distribution of Bads in Bin } i} \\right)\n",
    "$$\n",
    "\n",
    "- A **positive WOE** → more goods than bads in the bin (**low-risk**)  \n",
    "- A **negative WOE** → more bads than goods in the bin (**high-risk**)  \n",
    "- WOE values are additive and interpretable, making them ideal for logistic regression and scorecard modeling.\n"
   ]
  },
  {
   "cell_type": "markdown",
   "id": "fba6807e",
   "metadata": {
    "papermill": {
     "duration": 0.016662,
     "end_time": "2025-04-30T02:57:45.095376",
     "exception": false,
     "start_time": "2025-04-30T02:57:45.078714",
     "status": "completed"
    },
    "tags": []
   },
   "source": [
    "**Why use WOE?**\n",
    "\n",
    "| Benefit                      | Description                                                       |\n",
    "|-----------------------------|-------------------------------------------------------------------|\n",
    "| Model Compatibility         | Makes features linear for logistic regression                    |\n",
    "| Interpretability            | Easier to explain to business stakeholders                       |\n",
    "| Handles Missing Values Naturally | Bins can include \"missing\"                                  |\n",
    "| Encodes Monotonicity        | Ensures consistent score behavior (score ↑ when risk ↓)          |"
   ]
  },
  {
   "cell_type": "markdown",
   "id": "80022525",
   "metadata": {
    "papermill": {
     "duration": 0.016448,
     "end_time": "2025-04-30T02:57:45.128598",
     "exception": false,
     "start_time": "2025-04-30T02:57:45.112150",
     "status": "completed"
    },
    "tags": []
   },
   "source": [
    "**🔍 What is IV (Information Value)?**\n",
    "\n",
    "**Information Value (IV)** helps select features by measuring how much predictive power each one provides:\n",
    "\n",
    "$$\n",
    "IV = \\sum_{i=1}^{n} \\left( \\text{Dist}_{\\text{good},i} - \\text{Dist}_{\\text{bad},i} \\right) \\cdot WOE_i\n",
    "$$\n",
    "\n",
    "Where:\n",
    "- $\\text{Dist}_{\\text{good},i}$ = proportion of good observations in bin $i$  \n",
    "- $\\text{Dist}_{\\text{bad},i}$ = proportion of bad observations in bin $i$  \n",
    "- $WOE_i$ = Weight of Evidence for bin $i$\n",
    "\n",
    "The higher the IV, the more predictive the feature is."
   ]
  },
  {
   "cell_type": "code",
   "execution_count": 29,
   "id": "92341eda",
   "metadata": {
    "execution": {
     "iopub.execute_input": "2025-04-30T02:57:45.163445Z",
     "iopub.status.busy": "2025-04-30T02:57:45.163015Z",
     "iopub.status.idle": "2025-04-30T02:57:45.169000Z",
     "shell.execute_reply": "2025-04-30T02:57:45.168004Z"
    },
    "papermill": {
     "duration": 0.025193,
     "end_time": "2025-04-30T02:57:45.170573",
     "exception": false,
     "start_time": "2025-04-30T02:57:45.145380",
     "status": "completed"
    },
    "tags": []
   },
   "outputs": [],
   "source": [
    "def calc_woe_iv(df, feature_bin_col, target_col='target'):\n",
    "    grouped = df.groupby(feature_bin_col)[target_col].agg(['count', 'sum'])\n",
    "    grouped.columns = ['total', 'bad']\n",
    "    grouped['good'] = grouped['total'] - grouped['bad']\n",
    "    \n",
    "    dist_good = grouped['good'] / grouped['good'].sum()\n",
    "    dist_bad = grouped['bad'] / grouped['bad'].sum()\n",
    "    \n",
    "    grouped['woe'] = np.log((dist_good + 1e-6) / (dist_bad + 1e-6))\n",
    "    grouped['iv'] = (dist_good - dist_bad) * grouped['woe']\n",
    "    \n",
    "    woe_dict = grouped['woe'].to_dict()\n",
    "    iv_score = grouped['iv'].sum()\n",
    "    \n",
    "    return woe_dict, iv_score"
   ]
  },
  {
   "cell_type": "code",
   "execution_count": 30,
   "id": "417f8b07",
   "metadata": {
    "execution": {
     "iopub.execute_input": "2025-04-30T02:57:45.205805Z",
     "iopub.status.busy": "2025-04-30T02:57:45.205433Z",
     "iopub.status.idle": "2025-04-30T02:57:45.209438Z",
     "shell.execute_reply": "2025-04-30T02:57:45.208467Z"
    },
    "papermill": {
     "duration": 0.023543,
     "end_time": "2025-04-30T02:57:45.211054",
     "exception": false,
     "start_time": "2025-04-30T02:57:45.187511",
     "status": "completed"
    },
    "tags": []
   },
   "outputs": [],
   "source": [
    "# Define categorical features for WOE encode\n",
    "categorical_features = [\n",
    "    'term',               # 2 values\n",
    "    'home_ownership',     # 6 values\n",
    "    'purpose',            # 14 values\n",
    "    'emp_length',         # 11 values (already imputed)\n",
    "    'verification_status' # 3 values (optional but simple)\n",
    "]"
   ]
  },
  {
   "cell_type": "code",
   "execution_count": 31,
   "id": "51e67d86",
   "metadata": {
    "execution": {
     "iopub.execute_input": "2025-04-30T02:57:45.246523Z",
     "iopub.status.busy": "2025-04-30T02:57:45.246178Z",
     "iopub.status.idle": "2025-04-30T02:57:45.995304Z",
     "shell.execute_reply": "2025-04-30T02:57:45.994031Z"
    },
    "papermill": {
     "duration": 0.768681,
     "end_time": "2025-04-30T02:57:45.996887",
     "exception": false,
     "start_time": "2025-04-30T02:57:45.228206",
     "status": "completed"
    },
    "tags": []
   },
   "outputs": [
    {
     "name": "stdout",
     "output_type": "stream",
     "text": [
      "✅ WOE applied to numerical feature: annual_inc, IV = 0.0539\n",
      "✅ WOE applied to numerical feature: int_rate, IV = 0.5026\n",
      "✅ WOE applied to numerical feature: credit_history_length, IV = 0.0447\n",
      "✅ WOE applied to numerical feature: total_rev_hi_lim, IV = 0.1483\n",
      "✅ WOE applied to numerical feature: open_acc, IV = 0.0052\n",
      "✅ WOE applied to numerical feature: revol_util, IV = 0.0353\n",
      "✅ WOE applied to numerical feature: tot_cur_bal, IV = 0.1340\n",
      "✅ WOE applied to numerical feature: mths_since_last_record, IV = 0.0111\n",
      "✅ WOE applied to numerical feature: mths_since_last_delinq, IV = 0.0023\n",
      "✅ WOE applied to numerical feature: loan_burden, IV = 0.0470\n",
      "✅ WOE applied to categorical feature: term, IV = 0.0212\n",
      "✅ WOE applied to categorical feature: home_ownership, IV = 0.0222\n",
      "✅ WOE applied to categorical feature: purpose, IV = 0.0497\n",
      "✅ WOE applied to categorical feature: emp_length, IV = 0.0067\n",
      "✅ WOE applied to categorical feature: verification_status, IV = 0.0352\n"
     ]
    }
   ],
   "source": [
    "woe_iv_summary = []\n",
    "\n",
    "# 1. Apply WOE to binned numerical features\n",
    "for feature in features_to_bin:\n",
    "    bin_col = feature + '_bin'\n",
    "    try:\n",
    "        woe_map, iv_score = calc_woe_iv(df, bin_col, 'target')\n",
    "        df[feature + '_woe'] = df[bin_col].map(woe_map)\n",
    "        woe_iv_summary.append({'feature': feature, 'iv': iv_score})\n",
    "        print(f\"✅ WOE applied to numerical feature: {feature}, IV = {iv_score:.4f}\")\n",
    "    except Exception as e:\n",
    "        print(f\"❌ Failed WOE on numerical feature: {feature} — {e}\")\n",
    "\n",
    "# 2. Apply WOE to categorical features\n",
    "for cat_feature in categorical_features:\n",
    "    try:\n",
    "        woe_map, iv_score = calc_woe_iv(df, cat_feature, 'target')\n",
    "        df[cat_feature + '_woe'] = df[cat_feature].map(woe_map)\n",
    "        woe_iv_summary.append({'feature': cat_feature, 'iv': iv_score})\n",
    "        print(f\"✅ WOE applied to categorical feature: {cat_feature}, IV = {iv_score:.4f}\")\n",
    "    except Exception as e:\n",
    "        print(f\"❌ Failed WOE on categorical feature: {cat_feature} — {e}\")"
   ]
  },
  {
   "cell_type": "markdown",
   "id": "4f875807",
   "metadata": {
    "papermill": {
     "duration": 0.016886,
     "end_time": "2025-04-30T02:57:46.031198",
     "exception": false,
     "start_time": "2025-04-30T02:57:46.014312",
     "status": "completed"
    },
    "tags": []
   },
   "source": [
    "**IV-Based Feature Selection**\n",
    "\n",
    "| Feature                 | IV      | Verdict                                             |\n",
    "|-------------------------|---------|------------------------------------------------------|\n",
    "| int_rate               | 0.5026  | ✅ Strong — must keep                                |\n",
    "| total_rev_hi_lim       | 0.1483  | ✅ Good — keep                                       |\n",
    "| tot_cur_bal            | 0.1340  | ✅ Good — keep                                       |\n",
    "| annual_inc             | 0.0539  | ⚠️ Weak but usable                                  |\n",
    "| purpose                | 0.0497  | ⚠️ Weak but usable                                  |\n",
    "| loan_burden            | 0.0470  | ⚠️ Weak but usable ✅ (better than dti + loan_amnt) |\n",
    "| credit_history_length  | 0.0447  | ⚠️ Weak                                             |\n",
    "| revol_util             | 0.0353  | ⚠️ Weak                                             |\n",
    "| verification_status    | 0.0352  | ⚠️ Weak                                             |\n",
    "| home_ownership         | 0.0222  | ❌ Useless — drop                                    |\n",
    "| term                   | 0.0212  | ❌ Useless — drop                                    |\n",
    "| emp_length             | 0.0067  | ❌ Useless — drop                                    |\n",
    "| mths_since_last_record | 0.0111  | ❌ Useless — drop                                    |\n",
    "| mths_since_last_delinq | 0.0023  | ❌ Useless — drop                                    |\n",
    "| open_acc               | 0.0052  | ❌ Useless — drop                                    |\n"
   ]
  },
  {
   "cell_type": "code",
   "execution_count": 32,
   "id": "b7f9fa5e",
   "metadata": {
    "execution": {
     "iopub.execute_input": "2025-04-30T02:57:46.066751Z",
     "iopub.status.busy": "2025-04-30T02:57:46.066432Z",
     "iopub.status.idle": "2025-04-30T02:57:46.070771Z",
     "shell.execute_reply": "2025-04-30T02:57:46.069828Z"
    },
    "papermill": {
     "duration": 0.024044,
     "end_time": "2025-04-30T02:57:46.072352",
     "exception": false,
     "start_time": "2025-04-30T02:57:46.048308",
     "status": "completed"
    },
    "tags": []
   },
   "outputs": [],
   "source": [
    "final_woe_features = [\n",
    "    'int_rate_woe',\n",
    "    'total_rev_hi_lim_woe',\n",
    "    'tot_cur_bal_woe',\n",
    "    'annual_inc_woe',\n",
    "    'purpose_woe',\n",
    "    'loan_burden_woe',\n",
    "    'credit_history_length_woe',\n",
    "    'revol_util_woe',\n",
    "    'verification_status_woe'\n",
    "]\n"
   ]
  },
  {
   "cell_type": "code",
   "execution_count": 33,
   "id": "cad030eb",
   "metadata": {
    "execution": {
     "iopub.execute_input": "2025-04-30T02:57:46.108971Z",
     "iopub.status.busy": "2025-04-30T02:57:46.108629Z",
     "iopub.status.idle": "2025-04-30T02:57:46.284266Z",
     "shell.execute_reply": "2025-04-30T02:57:46.283149Z"
    },
    "papermill": {
     "duration": 0.19607,
     "end_time": "2025-04-30T02:57:46.286171",
     "exception": false,
     "start_time": "2025-04-30T02:57:46.090101",
     "status": "completed"
    },
    "tags": []
   },
   "outputs": [],
   "source": [
    "# Drop due to low IV \n",
    "drop_woe_cols = [\n",
    "    'open_acc_woe',\n",
    "    'mths_since_last_record_woe', 'mths_since_last_delinq_woe',\n",
    "    'home_ownership_woe', 'term_woe', 'emp_length_woe'\n",
    "]\n",
    "df = df.drop(columns=drop_woe_cols)"
   ]
  },
  {
   "cell_type": "markdown",
   "id": "834e5cba",
   "metadata": {
    "papermill": {
     "duration": 0.016858,
     "end_time": "2025-04-30T02:57:46.320351",
     "exception": false,
     "start_time": "2025-04-30T02:57:46.303493",
     "status": "completed"
    },
    "tags": []
   },
   "source": [
    "# Logistic Regression Model"
   ]
  },
  {
   "cell_type": "code",
   "execution_count": 34,
   "id": "4abd226b",
   "metadata": {
    "execution": {
     "iopub.execute_input": "2025-04-30T02:57:46.355900Z",
     "iopub.status.busy": "2025-04-30T02:57:46.355584Z",
     "iopub.status.idle": "2025-04-30T02:57:46.737742Z",
     "shell.execute_reply": "2025-04-30T02:57:46.736745Z"
    },
    "papermill": {
     "duration": 0.402095,
     "end_time": "2025-04-30T02:57:46.739575",
     "exception": false,
     "start_time": "2025-04-30T02:57:46.337480",
     "status": "completed"
    },
    "tags": []
   },
   "outputs": [],
   "source": [
    "# Split\n",
    "X_train, X_test, y_train, y_test = train_test_split(\n",
    "    df[final_woe_features], df['target'], test_size=0.3, random_state=42, stratify=df['target'])"
   ]
  },
  {
   "cell_type": "markdown",
   "id": "9b5cab7f",
   "metadata": {
    "papermill": {
     "duration": 0.017285,
     "end_time": "2025-04-30T02:57:46.775851",
     "exception": false,
     "start_time": "2025-04-30T02:57:46.758566",
     "status": "completed"
    },
    "tags": []
   },
   "source": [
    "**Why Stratify?**\n",
    "\n",
    "This step is critical in highly imbalanced datasets like credit risk (only ~7% “bad” borrowers):\n",
    "\n",
    "| Purpose                          | Benefit                                                       |\n",
    "|----------------------------------|----------------------------------------------------------------|\n",
    "| `stratify=df['target']`         | Ensures train/test have similar class ratios                  |\n",
    "| Prevents rare class imbalance   | Avoids unstable training or misleading AUC                    |\n",
    "| Industry-standard for scoring   | Required for reliable performance metrics                     |\n",
    "\n",
    "This ensures both **training** and **testing** sets have **realistic proportions** of “good” vs “bad” borrowers - keeping evaluation grounded in real-world class distributions.\n"
   ]
  },
  {
   "cell_type": "markdown",
   "id": "321509df",
   "metadata": {
    "papermill": {
     "duration": 0.017288,
     "end_time": "2025-04-30T02:57:46.810512",
     "exception": false,
     "start_time": "2025-04-30T02:57:46.793224",
     "status": "completed"
    },
    "tags": []
   },
   "source": [
    "**📊 Logistic Regression and WOE**\n",
    "\n",
    "Logistic regression estimates the **log-odds** of default as:\n",
    "\n",
    "$$\n",
    "\\log\\left( \\frac{P(\\text{Bad})}{1 - P(\\text{Bad})} \\right) = \\beta_0 + \\beta_1 x_1 + \\beta_2 x_2 + \\cdots + \\beta_n x_n\n",
    "$$\n",
    "\n",
    "Because all $x_i$ features were transformed using **Weight of Evidence (WOE)**, they are already **linear in log-odds** - which makes logistic regression a perfect fit for credit scorecard modeling.\n"
   ]
  },
  {
   "cell_type": "code",
   "execution_count": 35,
   "id": "47e9d7af",
   "metadata": {
    "execution": {
     "iopub.execute_input": "2025-04-30T02:57:46.846214Z",
     "iopub.status.busy": "2025-04-30T02:57:46.845843Z",
     "iopub.status.idle": "2025-04-30T02:57:47.560682Z",
     "shell.execute_reply": "2025-04-30T02:57:47.559659Z"
    },
    "papermill": {
     "duration": 0.734584,
     "end_time": "2025-04-30T02:57:47.562287",
     "exception": false,
     "start_time": "2025-04-30T02:57:46.827703",
     "status": "completed"
    },
    "tags": []
   },
   "outputs": [
    {
     "data": {
      "text/html": [
       "<style>#sk-container-id-1 {color: black;background-color: white;}#sk-container-id-1 pre{padding: 0;}#sk-container-id-1 div.sk-toggleable {background-color: white;}#sk-container-id-1 label.sk-toggleable__label {cursor: pointer;display: block;width: 100%;margin-bottom: 0;padding: 0.3em;box-sizing: border-box;text-align: center;}#sk-container-id-1 label.sk-toggleable__label-arrow:before {content: \"▸\";float: left;margin-right: 0.25em;color: #696969;}#sk-container-id-1 label.sk-toggleable__label-arrow:hover:before {color: black;}#sk-container-id-1 div.sk-estimator:hover label.sk-toggleable__label-arrow:before {color: black;}#sk-container-id-1 div.sk-toggleable__content {max-height: 0;max-width: 0;overflow: hidden;text-align: left;background-color: #f0f8ff;}#sk-container-id-1 div.sk-toggleable__content pre {margin: 0.2em;color: black;border-radius: 0.25em;background-color: #f0f8ff;}#sk-container-id-1 input.sk-toggleable__control:checked~div.sk-toggleable__content {max-height: 200px;max-width: 100%;overflow: auto;}#sk-container-id-1 input.sk-toggleable__control:checked~label.sk-toggleable__label-arrow:before {content: \"▾\";}#sk-container-id-1 div.sk-estimator input.sk-toggleable__control:checked~label.sk-toggleable__label {background-color: #d4ebff;}#sk-container-id-1 div.sk-label input.sk-toggleable__control:checked~label.sk-toggleable__label {background-color: #d4ebff;}#sk-container-id-1 input.sk-hidden--visually {border: 0;clip: rect(1px 1px 1px 1px);clip: rect(1px, 1px, 1px, 1px);height: 1px;margin: -1px;overflow: hidden;padding: 0;position: absolute;width: 1px;}#sk-container-id-1 div.sk-estimator {font-family: monospace;background-color: #f0f8ff;border: 1px dotted black;border-radius: 0.25em;box-sizing: border-box;margin-bottom: 0.5em;}#sk-container-id-1 div.sk-estimator:hover {background-color: #d4ebff;}#sk-container-id-1 div.sk-parallel-item::after {content: \"\";width: 100%;border-bottom: 1px solid gray;flex-grow: 1;}#sk-container-id-1 div.sk-label:hover label.sk-toggleable__label {background-color: #d4ebff;}#sk-container-id-1 div.sk-serial::before {content: \"\";position: absolute;border-left: 1px solid gray;box-sizing: border-box;top: 0;bottom: 0;left: 50%;z-index: 0;}#sk-container-id-1 div.sk-serial {display: flex;flex-direction: column;align-items: center;background-color: white;padding-right: 0.2em;padding-left: 0.2em;position: relative;}#sk-container-id-1 div.sk-item {position: relative;z-index: 1;}#sk-container-id-1 div.sk-parallel {display: flex;align-items: stretch;justify-content: center;background-color: white;position: relative;}#sk-container-id-1 div.sk-item::before, #sk-container-id-1 div.sk-parallel-item::before {content: \"\";position: absolute;border-left: 1px solid gray;box-sizing: border-box;top: 0;bottom: 0;left: 50%;z-index: -1;}#sk-container-id-1 div.sk-parallel-item {display: flex;flex-direction: column;z-index: 1;position: relative;background-color: white;}#sk-container-id-1 div.sk-parallel-item:first-child::after {align-self: flex-end;width: 50%;}#sk-container-id-1 div.sk-parallel-item:last-child::after {align-self: flex-start;width: 50%;}#sk-container-id-1 div.sk-parallel-item:only-child::after {width: 0;}#sk-container-id-1 div.sk-dashed-wrapped {border: 1px dashed gray;margin: 0 0.4em 0.5em 0.4em;box-sizing: border-box;padding-bottom: 0.4em;background-color: white;}#sk-container-id-1 div.sk-label label {font-family: monospace;font-weight: bold;display: inline-block;line-height: 1.2em;}#sk-container-id-1 div.sk-label-container {text-align: center;}#sk-container-id-1 div.sk-container {/* jupyter's `normalize.less` sets `[hidden] { display: none; }` but bootstrap.min.css set `[hidden] { display: none !important; }` so we also need the `!important` here to be able to override the default hidden behavior on the sphinx rendered scikit-learn.org. See: https://github.com/scikit-learn/scikit-learn/issues/21755 */display: inline-block !important;position: relative;}#sk-container-id-1 div.sk-text-repr-fallback {display: none;}</style><div id=\"sk-container-id-1\" class=\"sk-top-container\"><div class=\"sk-text-repr-fallback\"><pre>LogisticRegression()</pre><b>In a Jupyter environment, please rerun this cell to show the HTML representation or trust the notebook. <br />On GitHub, the HTML representation is unable to render, please try loading this page with nbviewer.org.</b></div><div class=\"sk-container\" hidden><div class=\"sk-item\"><div class=\"sk-estimator sk-toggleable\"><input class=\"sk-toggleable__control sk-hidden--visually\" id=\"sk-estimator-id-1\" type=\"checkbox\" checked><label for=\"sk-estimator-id-1\" class=\"sk-toggleable__label sk-toggleable__label-arrow\">LogisticRegression</label><div class=\"sk-toggleable__content\"><pre>LogisticRegression()</pre></div></div></div></div></div>"
      ],
      "text/plain": [
       "LogisticRegression()"
      ]
     },
     "execution_count": 35,
     "metadata": {},
     "output_type": "execute_result"
    }
   ],
   "source": [
    "# Fit model\n",
    "model = LogisticRegression()\n",
    "model.fit(X_train, y_train)"
   ]
  },
  {
   "cell_type": "markdown",
   "id": "8f00de8a",
   "metadata": {
    "papermill": {
     "duration": 0.017068,
     "end_time": "2025-04-30T02:57:47.596984",
     "exception": false,
     "start_time": "2025-04-30T02:57:47.579916",
     "status": "completed"
    },
    "tags": []
   },
   "source": [
    "# Model Evaluation"
   ]
  },
  {
   "cell_type": "code",
   "execution_count": 36,
   "id": "e236afe6",
   "metadata": {
    "execution": {
     "iopub.execute_input": "2025-04-30T02:57:47.632789Z",
     "iopub.status.busy": "2025-04-30T02:57:47.632453Z",
     "iopub.status.idle": "2025-04-30T02:57:47.653408Z",
     "shell.execute_reply": "2025-04-30T02:57:47.652197Z"
    },
    "papermill": {
     "duration": 0.041214,
     "end_time": "2025-04-30T02:57:47.655396",
     "exception": false,
     "start_time": "2025-04-30T02:57:47.614182",
     "status": "completed"
    },
    "tags": []
   },
   "outputs": [],
   "source": [
    "y_pred_test = model.predict_proba(X_test)[:, 1]"
   ]
  },
  {
   "cell_type": "code",
   "execution_count": 37,
   "id": "74eca53f",
   "metadata": {
    "execution": {
     "iopub.execute_input": "2025-04-30T02:57:47.692102Z",
     "iopub.status.busy": "2025-04-30T02:57:47.691668Z",
     "iopub.status.idle": "2025-04-30T02:57:47.696010Z",
     "shell.execute_reply": "2025-04-30T02:57:47.695023Z"
    },
    "papermill": {
     "duration": 0.024386,
     "end_time": "2025-04-30T02:57:47.697562",
     "exception": false,
     "start_time": "2025-04-30T02:57:47.673176",
     "status": "completed"
    },
    "tags": []
   },
   "outputs": [],
   "source": [
    "# View Model Coefficients\n",
    "coefficients = model.coef_[0]\n",
    "intercept = model.intercept_[0]"
   ]
  },
  {
   "cell_type": "markdown",
   "id": "a936eaf1",
   "metadata": {
    "papermill": {
     "duration": 0.017259,
     "end_time": "2025-04-30T02:57:47.732490",
     "exception": false,
     "start_time": "2025-04-30T02:57:47.715231",
     "status": "completed"
    },
    "tags": []
   },
   "source": [
    "Each coefficient shows the impact of WOE-transformed features on log-odds:\n",
    "- A negative coefficient → higher WOE (i.e., less risk) → lower default odds.\n",
    "- Larger magnitude = stronger influence on risk."
   ]
  },
  {
   "cell_type": "code",
   "execution_count": 38,
   "id": "603c3f86",
   "metadata": {
    "execution": {
     "iopub.execute_input": "2025-04-30T02:57:47.769977Z",
     "iopub.status.busy": "2025-04-30T02:57:47.769570Z",
     "iopub.status.idle": "2025-04-30T02:57:47.776340Z",
     "shell.execute_reply": "2025-04-30T02:57:47.775299Z"
    },
    "papermill": {
     "duration": 0.026939,
     "end_time": "2025-04-30T02:57:47.777820",
     "exception": false,
     "start_time": "2025-04-30T02:57:47.750881",
     "status": "completed"
    },
    "tags": []
   },
   "outputs": [
    {
     "name": "stdout",
     "output_type": "stream",
     "text": [
      "\n",
      "🔎 Coefficients (aligned with features):\n",
      "  int_rate_woe                   → -0.9463\n",
      "  total_rev_hi_lim_woe           → -0.2874\n",
      "  tot_cur_bal_woe                → -0.7391\n",
      "  annual_inc_woe                 → -0.3650\n",
      "  purpose_woe                    → -0.3000\n",
      "  loan_burden_woe                → -0.2106\n",
      "  credit_history_length_woe      → -0.3059\n",
      "  revol_util_woe                 → -0.2186\n",
      "  verification_status_woe        → -0.3554\n"
     ]
    }
   ],
   "source": [
    "print(\"\\n🔎 Coefficients (aligned with features):\")\n",
    "for f, c in zip(final_woe_features, coefficients):\n",
    "    print(f\"  {f:<30} → {c:.4f}\")"
   ]
  },
  {
   "cell_type": "markdown",
   "id": "85e406e3",
   "metadata": {
    "papermill": {
     "duration": 0.017436,
     "end_time": "2025-04-30T02:57:47.813291",
     "exception": false,
     "start_time": "2025-04-30T02:57:47.795855",
     "status": "completed"
    },
    "tags": []
   },
   "source": [
    "## AUC (Area Under Curve)"
   ]
  },
  {
   "cell_type": "markdown",
   "id": "afd6b5aa",
   "metadata": {
    "papermill": {
     "duration": 0.017458,
     "end_time": "2025-04-30T02:57:47.848200",
     "exception": false,
     "start_time": "2025-04-30T02:57:47.830742",
     "status": "completed"
    },
    "tags": []
   },
   "source": [
    "**What is AUC?**\n",
    "AUC stands for Area Under the ROC Curve, where ROC is:\n",
    "\n",
    "Receiver Operating Characteristic - a plot of True Positive Rate vs False Positive Rate.\n",
    "\n",
    "**Interpretation**:\n",
    "- AUC = 0.5 → Model is guessing randomly.\n",
    "- AUC = 1.0 → Model is perfectly separating good vs bad borrowers."
   ]
  },
  {
   "cell_type": "code",
   "execution_count": 39,
   "id": "e36d1b37",
   "metadata": {
    "execution": {
     "iopub.execute_input": "2025-04-30T02:57:47.884288Z",
     "iopub.status.busy": "2025-04-30T02:57:47.883880Z",
     "iopub.status.idle": "2025-04-30T02:57:47.982829Z",
     "shell.execute_reply": "2025-04-30T02:57:47.981524Z"
    },
    "papermill": {
     "duration": 0.119045,
     "end_time": "2025-04-30T02:57:47.984615",
     "exception": false,
     "start_time": "2025-04-30T02:57:47.865570",
     "status": "completed"
    },
    "tags": []
   },
   "outputs": [
    {
     "name": "stdout",
     "output_type": "stream",
     "text": [
      "\n",
      "📊 Test AUC: 0.7188\n"
     ]
    }
   ],
   "source": [
    "auc_test = roc_auc_score(y_test, y_pred_test)\n",
    "print(f\"\\n📊 Test AUC: {auc_test:.4f}\")"
   ]
  },
  {
   "cell_type": "markdown",
   "id": "729a4429",
   "metadata": {
    "papermill": {
     "duration": 0.01795,
     "end_time": "2025-04-30T02:57:48.020261",
     "exception": false,
     "start_time": "2025-04-30T02:57:48.002311",
     "status": "completed"
    },
    "tags": []
   },
   "source": [
    "Decent separation ability."
   ]
  },
  {
   "cell_type": "code",
   "execution_count": 40,
   "id": "2c0e6f22",
   "metadata": {
    "execution": {
     "iopub.execute_input": "2025-04-30T02:57:48.056796Z",
     "iopub.status.busy": "2025-04-30T02:57:48.056476Z",
     "iopub.status.idle": "2025-04-30T02:57:48.408552Z",
     "shell.execute_reply": "2025-04-30T02:57:48.407548Z"
    },
    "papermill": {
     "duration": 0.37255,
     "end_time": "2025-04-30T02:57:48.410255",
     "exception": false,
     "start_time": "2025-04-30T02:57:48.037705",
     "status": "completed"
    },
    "tags": []
   },
   "outputs": [
    {
     "data": {
      "image/png": "[encoded data removed]",
      "text/plain": [
       "<Figure size 800x600 with 1 Axes>"
      ]
     },
     "metadata": {},
     "output_type": "display_data"
    }
   ],
   "source": [
    "fpr, tpr, _ = roc_curve(y_test, y_pred_test)\n",
    "roc_auc = auc(fpr, tpr)\n",
    "\n",
    "plt.figure(figsize=(8, 6))\n",
    "plt.plot(fpr, tpr, color='darkorange', lw=2, label=f'AUC = {roc_auc:.4f}')\n",
    "plt.plot([0, 1], [0, 1], color='gray', linestyle='--')\n",
    "plt.title('ROC Curve')\n",
    "plt.xlabel('False Positive Rate')\n",
    "plt.ylabel('True Positive Rate')\n",
    "plt.legend(loc='lower right')\n",
    "plt.grid(True)\n",
    "plt.show()"
   ]
  },
  {
   "cell_type": "markdown",
   "id": "b66f3588",
   "metadata": {
    "papermill": {
     "duration": 0.018389,
     "end_time": "2025-04-30T02:57:48.447969",
     "exception": false,
     "start_time": "2025-04-30T02:57:48.429580",
     "status": "completed"
    },
    "tags": []
   },
   "source": [
    "- X-axis = False Positive Rate (FPR) → Type I error.\n",
    "- Y-axis = True Positive Rate (TPR) → Recall.\n",
    "\n",
    "The closer the curve is to the top-left corner, the better the model."
   ]
  },
  {
   "cell_type": "markdown",
   "id": "938c8158",
   "metadata": {
    "papermill": {
     "duration": 0.018554,
     "end_time": "2025-04-30T02:57:48.485174",
     "exception": false,
     "start_time": "2025-04-30T02:57:48.466620",
     "status": "completed"
    },
    "tags": []
   },
   "source": [
    "## KS Statistic (Kolmogorov–Smirnov)"
   ]
  },
  {
   "cell_type": "markdown",
   "id": "b7496e19",
   "metadata": {
    "papermill": {
     "duration": 0.018312,
     "end_time": "2025-04-30T02:57:48.522060",
     "exception": false,
     "start_time": "2025-04-30T02:57:48.503748",
     "status": "completed"
    },
    "tags": []
   },
   "source": [
    "- KS Statistic = max separation between TPR and FPR.\n",
    "- Common metric in banking to measure how well the model separates classes."
   ]
  },
  {
   "cell_type": "code",
   "execution_count": 41,
   "id": "41a54877",
   "metadata": {
    "execution": {
     "iopub.execute_input": "2025-04-30T02:57:48.561852Z",
     "iopub.status.busy": "2025-04-30T02:57:48.561508Z",
     "iopub.status.idle": "2025-04-30T02:57:48.572892Z",
     "shell.execute_reply": "2025-04-30T02:57:48.571974Z"
    },
    "papermill": {
     "duration": 0.03346,
     "end_time": "2025-04-30T02:57:48.574368",
     "exception": false,
     "start_time": "2025-04-30T02:57:48.540908",
     "status": "completed"
    },
    "tags": []
   },
   "outputs": [
    {
     "name": "stdout",
     "output_type": "stream",
     "text": [
      "KS Statistic: 0.3280\n"
     ]
    }
   ],
   "source": [
    "ks = max(tpr - fpr)\n",
    "print(f\"KS Statistic: {ks:.4f}\")"
   ]
  },
  {
   "cell_type": "markdown",
   "id": "3eee7a0b",
   "metadata": {
    "papermill": {
     "duration": 0.019694,
     "end_time": "2025-04-30T02:57:48.613273",
     "exception": false,
     "start_time": "2025-04-30T02:57:48.593579",
     "status": "completed"
    },
    "tags": []
   },
   "source": [
    "Solid score, acceptable for a credit scorecard in production."
   ]
  },
  {
   "cell_type": "markdown",
   "id": "1abd4318",
   "metadata": {
    "papermill": {
     "duration": 0.018954,
     "end_time": "2025-04-30T02:57:48.653452",
     "exception": false,
     "start_time": "2025-04-30T02:57:48.634498",
     "status": "completed"
    },
    "tags": []
   },
   "source": [
    "# Scale To Credit Scores"
   ]
  },
  {
   "cell_type": "code",
   "execution_count": 42,
   "id": "3a3bac7d",
   "metadata": {
    "execution": {
     "iopub.execute_input": "2025-04-30T02:57:48.691901Z",
     "iopub.status.busy": "2025-04-30T02:57:48.691571Z",
     "iopub.status.idle": "2025-04-30T02:57:48.703958Z",
     "shell.execute_reply": "2025-04-30T02:57:48.702942Z"
    },
    "papermill": {
     "duration": 0.033627,
     "end_time": "2025-04-30T02:57:48.705781",
     "exception": false,
     "start_time": "2025-04-30T02:57:48.672154",
     "status": "completed"
    },
    "tags": []
   },
   "outputs": [],
   "source": [
    "# Define X again using final WOE features\n",
    "X = df[final_woe_features]"
   ]
  },
  {
   "cell_type": "code",
   "execution_count": 43,
   "id": "095d70aa",
   "metadata": {
    "execution": {
     "iopub.execute_input": "2025-04-30T02:57:48.761548Z",
     "iopub.status.busy": "2025-04-30T02:57:48.761077Z",
     "iopub.status.idle": "2025-04-30T02:57:48.766141Z",
     "shell.execute_reply": "2025-04-30T02:57:48.765128Z"
    },
    "papermill": {
     "duration": 0.035305,
     "end_time": "2025-04-30T02:57:48.768064",
     "exception": false,
     "start_time": "2025-04-30T02:57:48.732759",
     "status": "completed"
    },
    "tags": []
   },
   "outputs": [],
   "source": [
    "# Define Parameters for Score Scaling\n",
    "PDO = 20           # Points to Double the Odds\n",
    "BaseScore = 600    # Score assigned to base odds\n",
    "BaseOdds = 50      # Base odds = Good : Bad = 50:1"
   ]
  },
  {
   "cell_type": "code",
   "execution_count": 44,
   "id": "de553658",
   "metadata": {
    "execution": {
     "iopub.execute_input": "2025-04-30T02:57:48.813589Z",
     "iopub.status.busy": "2025-04-30T02:57:48.813254Z",
     "iopub.status.idle": "2025-04-30T02:57:48.878318Z",
     "shell.execute_reply": "2025-04-30T02:57:48.877434Z"
    },
    "papermill": {
     "duration": 0.088532,
     "end_time": "2025-04-30T02:57:48.880129",
     "exception": false,
     "start_time": "2025-04-30T02:57:48.791597",
     "status": "completed"
    },
    "tags": []
   },
   "outputs": [],
   "source": [
    "# Convert Logistic Output to Score\n",
    "# Score = Offset – Factor × log-odds\n",
    "Factor = PDO / np.log(2)\n",
    "Offset = BaseScore - Factor * np.log(BaseOdds)\n",
    "\n",
    "log_odds = model.intercept_ + np.dot(X, model.coef_.T).reshape(-1)\n",
    "df['score'] = Offset - Factor * log_odds"
   ]
  },
  {
   "cell_type": "code",
   "execution_count": 45,
   "id": "61da0ec1",
   "metadata": {
    "execution": {
     "iopub.execute_input": "2025-04-30T02:57:48.919253Z",
     "iopub.status.busy": "2025-04-30T02:57:48.918794Z",
     "iopub.status.idle": "2025-04-30T02:57:48.934706Z",
     "shell.execute_reply": "2025-04-30T02:57:48.933670Z"
    },
    "papermill": {
     "duration": 0.03732,
     "end_time": "2025-04-30T02:57:48.936386",
     "exception": false,
     "start_time": "2025-04-30T02:57:48.899066",
     "status": "completed"
    },
    "tags": []
   },
   "outputs": [
    {
     "data": {
      "text/html": [
       "<div>\n",
       "<style scoped>\n",
       "    .dataframe tbody tr th:only-of-type {\n",
       "        vertical-align: middle;\n",
       "    }\n",
       "\n",
       "    .dataframe tbody tr th {\n",
       "        vertical-align: top;\n",
       "    }\n",
       "\n",
       "    .dataframe thead th {\n",
       "        text-align: right;\n",
       "    }\n",
       "</style>\n",
       "<table border=\"1\" class=\"dataframe\">\n",
       "  <thead>\n",
       "    <tr style=\"text-align: right;\">\n",
       "      <th></th>\n",
       "      <th>score</th>\n",
       "      <th>target</th>\n",
       "    </tr>\n",
       "  </thead>\n",
       "  <tbody>\n",
       "    <tr>\n",
       "      <th>0</th>\n",
       "      <td>542.873200</td>\n",
       "      <td>0</td>\n",
       "    </tr>\n",
       "    <tr>\n",
       "      <th>1</th>\n",
       "      <td>526.309208</td>\n",
       "      <td>1</td>\n",
       "    </tr>\n",
       "    <tr>\n",
       "      <th>2</th>\n",
       "      <td>512.629943</td>\n",
       "      <td>0</td>\n",
       "    </tr>\n",
       "    <tr>\n",
       "      <th>3</th>\n",
       "      <td>544.345868</td>\n",
       "      <td>0</td>\n",
       "    </tr>\n",
       "    <tr>\n",
       "      <th>4</th>\n",
       "      <td>545.853245</td>\n",
       "      <td>0</td>\n",
       "    </tr>\n",
       "  </tbody>\n",
       "</table>\n",
       "</div>"
      ],
      "text/plain": [
       "        score  target\n",
       "0  542.873200       0\n",
       "1  526.309208       1\n",
       "2  512.629943       0\n",
       "3  544.345868       0\n",
       "4  545.853245       0"
      ]
     },
     "execution_count": 45,
     "metadata": {},
     "output_type": "execute_result"
    }
   ],
   "source": [
    "df[['score', 'target']].head()"
   ]
  },
  {
   "cell_type": "code",
   "execution_count": 46,
   "id": "fd031478",
   "metadata": {
    "execution": {
     "iopub.execute_input": "2025-04-30T02:57:48.976420Z",
     "iopub.status.busy": "2025-04-30T02:57:48.976023Z",
     "iopub.status.idle": "2025-04-30T02:57:53.113711Z",
     "shell.execute_reply": "2025-04-30T02:57:53.112679Z"
    },
    "papermill": {
     "duration": 4.159277,
     "end_time": "2025-04-30T02:57:53.115527",
     "exception": false,
     "start_time": "2025-04-30T02:57:48.956250",
     "status": "completed"
    },
    "tags": []
   },
   "outputs": [
    {
     "data": {
      "image/png": "[encoded data removed]",
      "text/plain": [
       "<Figure size 1000x600 with 1 Axes>"
      ]
     },
     "metadata": {},
     "output_type": "display_data"
    }
   ],
   "source": [
    "plt.figure(figsize=(10, 6))\n",
    "sns.histplot(data=df, x='score', hue='target', bins=30, kde=True, palette='coolwarm', stat='density')\n",
    "plt.title('Score Distribution by Target (Good vs Bad)')\n",
    "plt.xlabel('Score')\n",
    "plt.ylabel('Density')\n",
    "plt.grid(True)\n",
    "plt.show()"
   ]
  },
  {
   "cell_type": "markdown",
   "id": "d771ca73",
   "metadata": {
    "papermill": {
     "duration": 0.019793,
     "end_time": "2025-04-30T02:57:53.156085",
     "exception": false,
     "start_time": "2025-04-30T02:57:53.136292",
     "status": "completed"
    },
    "tags": []
   },
   "source": [
    "- Good (0) borrowers skew right (higher scores)\n",
    "- Bad (1) borrowers skew left (lower scores)\n",
    "\n",
    "The separation shows the discriminative power of the scorecard"
   ]
  },
  {
   "cell_type": "markdown",
   "id": "5db4a1b7",
   "metadata": {
    "papermill": {
     "duration": 0.019801,
     "end_time": "2025-04-30T02:57:53.197036",
     "exception": false,
     "start_time": "2025-04-30T02:57:53.177235",
     "status": "completed"
    },
    "tags": []
   },
   "source": [
    "# Scorecard Table"
   ]
  },
  {
   "cell_type": "markdown",
   "id": "7739952d",
   "metadata": {
    "papermill": {
     "duration": 0.019668,
     "end_time": "2025-04-30T02:57:53.236831",
     "exception": false,
     "start_time": "2025-04-30T02:57:53.217163",
     "status": "completed"
    },
    "tags": []
   },
   "source": [
    "Scorecard: a mapping between each bin of a variable and its corresponding score contribution.\n",
    "\n",
    "**Formula for Score per Bin**:\n",
    "$$\n",
    "points = -coef * woe * Factor\n",
    "$$\n",
    "Where:\n",
    "- coef = model coefficient for that feature\n",
    "- woe = Weight of Evidence for that bin\n",
    "- Factor = scaling factor from PDO"
   ]
  },
  {
   "cell_type": "code",
   "execution_count": 47,
   "id": "af7a3c22",
   "metadata": {
    "execution": {
     "iopub.execute_input": "2025-04-30T02:57:53.278073Z",
     "iopub.status.busy": "2025-04-30T02:57:53.277696Z",
     "iopub.status.idle": "2025-04-30T02:57:53.495768Z",
     "shell.execute_reply": "2025-04-30T02:57:53.494776Z"
    },
    "papermill": {
     "duration": 0.240881,
     "end_time": "2025-04-30T02:57:53.497627",
     "exception": false,
     "start_time": "2025-04-30T02:57:53.256746",
     "status": "completed"
    },
    "tags": []
   },
   "outputs": [],
   "source": [
    "Factor = 20 / np.log(2)  # scaling factor ≈ 28.85\n",
    "\n",
    "scorecard_rows = []\n",
    "\n",
    "for feature, coef in zip(final_woe_features, model.coef_[0]):\n",
    "    base_feature = feature.replace('_woe', '')\n",
    "    \n",
    "    # If it's a binned feature, use the bin column\n",
    "    if base_feature + '_bin' in df.columns:\n",
    "        group_col = base_feature + '_bin'\n",
    "    else:\n",
    "        group_col = base_feature  # categorical feature\n",
    "\n",
    "    try:\n",
    "        grouped = df.groupby(group_col)['target'].agg(['count', 'sum'])\n",
    "        grouped.columns = ['total', 'bad']\n",
    "        grouped['good'] = grouped['total'] - grouped['bad']\n",
    "\n",
    "        dist_good = grouped['good'] / grouped['good'].sum()\n",
    "        dist_bad = grouped['bad'] / grouped['bad'].sum()\n",
    "        grouped['woe'] = np.log((dist_good + 1e-6) / (dist_bad + 1e-6))\n",
    "\n",
    "        for bin_label, row in grouped.iterrows():\n",
    "            woe = row['woe']\n",
    "            points = -coef * woe * Factor\n",
    "            scorecard_rows.append({\n",
    "                'feature': base_feature,\n",
    "                'bin': str(bin_label),\n",
    "                'woe': round(woe, 4),\n",
    "                'coefficient': round(coef, 4),\n",
    "                'points': round(points, 2)\n",
    "            })\n",
    "    \n",
    "    except Exception as e:\n",
    "        print(f\"❌ Error processing {base_feature}: {e}\")\n",
    "\n",
    "# Final scorecard as DataFrame\n",
    "scorecard_df = pd.DataFrame(scorecard_rows).sort_values(by=['feature', 'bin'])\n"
   ]
  },
  {
   "cell_type": "code",
   "execution_count": 48,
   "id": "4899faba",
   "metadata": {
    "execution": {
     "iopub.execute_input": "2025-04-30T02:57:53.539426Z",
     "iopub.status.busy": "2025-04-30T02:57:53.539047Z",
     "iopub.status.idle": "2025-04-30T02:57:53.550724Z",
     "shell.execute_reply": "2025-04-30T02:57:53.549332Z"
    },
    "papermill": {
     "duration": 0.034531,
     "end_time": "2025-04-30T02:57:53.552565",
     "exception": false,
     "start_time": "2025-04-30T02:57:53.518034",
     "status": "completed"
    },
    "tags": []
   },
   "outputs": [
    {
     "name": "stdout",
     "output_type": "stream",
     "text": [
      "                  feature                    bin     woe  coefficient  points\n",
      "15             annual_inc        (-inf, 43202.0] -0.2922      -0.3650   -3.08\n",
      "19             annual_inc        (100129.0, inf]  0.3962      -0.3650    4.17\n",
      "16             annual_inc     (43202.0, 66100.5] -0.0839      -0.3650   -0.88\n",
      "17             annual_inc   (66100.5, 80046.219]  0.0909      -0.3650    0.96\n",
      "18             annual_inc  (80046.219, 100129.0]  0.2157      -0.3650    2.27\n",
      "39  credit_history_length          (-inf, 7.336] -0.4267      -0.3059   -3.77\n",
      "41  credit_history_length       (13.593, 19.092]  0.0574      -0.3059    0.51\n",
      "42  credit_history_length       (19.092, 24.768]  0.2339      -0.3059    2.06\n",
      "43  credit_history_length          (24.768, inf]  0.3328      -0.3059    2.94\n",
      "40  credit_history_length        (7.336, 13.593] -0.1416      -0.3059   -1.25\n",
      "0                int_rate          (-inf, 7.275]  1.8652      -0.9463   50.93\n",
      "3                int_rate         (14.03, 18.58] -0.3812      -0.9463  -10.41\n",
      "4                int_rate           (18.58, inf] -0.9700      -0.9463  -26.48\n",
      "1                int_rate         (7.275, 9.995]  1.0530      -0.9463   28.75\n",
      "2                int_rate         (9.995, 14.03]  0.2890      -0.9463    7.89\n",
      "34            loan_burden          (-inf, 0.164]  0.2372      -0.2106    1.44\n",
      "35            loan_burden         (0.164, 0.233]  0.1053      -0.2106    0.64\n",
      "36            loan_burden         (0.233, 0.263] -0.0081      -0.2106   -0.05\n",
      "37            loan_burden         (0.263, 0.318] -0.1529      -0.2106   -0.93\n",
      "38            loan_burden           (0.318, inf] -0.3118      -0.2106   -1.89\n",
      "20                purpose                    car  0.1043      -0.3000    0.90\n",
      "21                purpose            credit_card  0.3129      -0.3000    2.71\n",
      "22                purpose     debt_consolidation -0.0432      -0.3000   -0.37\n",
      "23                purpose            educational -1.2466      -0.3000  -10.79\n",
      "24                purpose       home_improvement  0.1228      -0.3000    1.06\n",
      "25                purpose                  house -0.4379      -0.3000   -3.79\n",
      "26                purpose         major_purchase  0.0187      -0.3000    0.16\n",
      "27                purpose                medical -0.2607      -0.3000   -2.26\n",
      "28                purpose                 moving -0.4532      -0.3000   -3.92\n",
      "29                purpose                  other -0.2898      -0.3000   -2.51\n",
      "30                purpose       renewable_energy -0.5347      -0.3000   -4.63\n",
      "31                purpose         small_business -0.9787      -0.3000   -8.47\n",
      "32                purpose               vacation -0.1240      -0.3000   -1.07\n",
      "33                purpose                wedding -0.6114      -0.3000   -5.29\n",
      "44             revol_util          (-inf, 38.15]  0.2685      -0.2186    1.69\n",
      "45             revol_util         (38.15, 55.45]  0.0887      -0.2186    0.56\n",
      "46             revol_util         (55.45, 74.65] -0.0652      -0.2186   -0.41\n",
      "47             revol_util         (74.65, 89.15] -0.2063      -0.2186   -1.30\n",
      "48             revol_util           (89.15, inf] -0.3106      -0.2186   -1.96\n",
      "10            tot_cur_bal        (-inf, 80597.5] -0.0053      -0.7391   -0.11\n",
      "13            tot_cur_bal   (223634.5, 386197.5]  0.3681      -0.7391    7.85\n",
      "14            tot_cur_bal        (386197.5, inf]  0.6031      -0.7391   12.86\n",
      "11            tot_cur_bal     (80597.5, 80623.5] -0.8958      -0.7391  -19.10\n",
      "12            tot_cur_bal    (80623.5, 223634.5]  0.1420      -0.7391    3.03\n",
      "5        total_rev_hi_lim        (-inf, 23682.5] -0.0363      -0.2874   -0.30\n",
      "6        total_rev_hi_lim     (23682.5, 23774.5] -0.8790      -0.2874   -7.29\n",
      "7        total_rev_hi_lim     (23774.5, 39694.5]  0.1382      -0.2874    1.15\n",
      "8        total_rev_hi_lim     (39694.5, 55668.5]  0.3428      -0.2874    2.84\n",
      "9        total_rev_hi_lim         (55668.5, inf]  0.6600      -0.2874    5.47\n",
      "49    verification_status           Not Verified  0.1505      -0.3554    1.54\n",
      "50    verification_status        Source Verified  0.1360      -0.3554    1.40\n",
      "51    verification_status               Verified -0.2473      -0.3554   -2.54\n"
     ]
    }
   ],
   "source": [
    "print(scorecard_df)"
   ]
  },
  {
   "cell_type": "markdown",
   "id": "2b90721d",
   "metadata": {
    "papermill": {
     "duration": 0.020057,
     "end_time": "2025-04-30T02:57:53.594033",
     "exception": false,
     "start_time": "2025-04-30T02:57:53.573976",
     "status": "completed"
    },
    "tags": []
   },
   "source": [
    "The final scorecard translates model coefficients and WOE values into interpretable point contributions for each feature bin. This makes the logistic regression model transparent, auditable, and suitable for real-world credit decisioning.\n",
    "\n",
    "**How to Read the Scorecard:**\n",
    "\n",
    "Each row corresponds to a specific bin (range or category) of a feature:\n",
    "- WOE: Weight of Evidence for that bin, representing the strength and direction of its association with default risk.\n",
    "- Coefficient: The logistic regression weight for the feature.\n",
    "- Points: Contribution to the borrower’s final credit score.\n",
    "    + Positive points → Lower risk (more “good” borrowers)\n",
    "    + Negative points → Higher risk (more “bad” borrowers)"
   ]
  }
 ],
 "metadata": {
  "kaggle": {
   "accelerator": "none",
   "dataSources": [
    {
     "datasetId": 1404394,
     "sourceId": 2327131,
     "sourceType": "datasetVersion"
    }
   ],
   "dockerImageVersionId": 30918,
   "isGpuEnabled": false,
   "isInternetEnabled": true,
   "language": "python",
   "sourceType": "notebook"
  },
  "kernelspec": {
   "display_name": "base",
   "language": "python",
   "name": "python3"
  },
  "language_info": {
   "codemirror_mode": {
    "name": "ipython",
    "version": 3
   },
   "file_extension": ".py",
   "mimetype": "text/x-python",
   "name": "python",
   "nbconvert_exporter": "python",
   "pygments_lexer": "ipython3",
   "version": "3.11.7"
  },
  "papermill": {
   "default_parameters": {},
   "duration": 51.955544,
   "end_time": "2025-04-30T02:57:54.536122",
   "environment_variables": {},
   "exception": null,
   "input_path": "__notebook__.ipynb",
   "output_path": "__notebook__.ipynb",
   "parameters": {},
   "start_time": "2025-04-30T02:57:02.580578",
   "version": "2.6.0"
  }
 },
 "nbformat": 4,
 "nbformat_minor": 5
}
